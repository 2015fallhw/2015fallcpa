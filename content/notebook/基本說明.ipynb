{
 "cells": [
  {
   "cell_type": "code",
   "execution_count": 1,
   "metadata": {
    "collapsed": false,
    "run_control": {
     "read_only": true
    }
   },
   "outputs": [
    {
     "data": {
      "text/plain": [
       "{'location': 'y:\\\\home\\\\.ipython\\\\profile_nbserver'}"
      ]
     },
     "execution_count": 1,
     "metadata": {},
     "output_type": "execute_result"
    }
   ],
   "source": [
    "# show 出 ipython notebook 所使用的 profile 目錄\n",
    "# 這裡應該會傳回 {'location': 'y:\\\\home\\\\.ipython\\\\profile_nbserver'}\n",
    "# 表示 custom.js 位於 'y:\\\\home\\\\.ipython\\\\profile_nbserver\\\\static\\\\custom'\n",
    "'''在 custom.js 中加入\n",
    "require([\"base/js/events\"], function (events) {\n",
    "    events.on(\"app_initialized.NotebookApp\", function () {\n",
    "    /* load your extension here */\n",
    "    IPython.load_extensions('read-only');\n",
    "    });\n",
    "});\n",
    "就可以自動導入'y:\\\\home\\\\.ipython\\\\nbextensions\\read-only.js' 延伸檔案\n",
    "read-only toggle 為 Alt+R\n",
    "'''\n",
    "# 以下為操作方法\n",
    "'''當使用者選擇某一 cell, 然後按下 Alt+R, 則 cell 內原本為灰色將會變成白色, 表示\n",
    "cell 為 read only\n",
    "''''''\n",
    "import IPython\n",
    "ip=IPython.get_ipython()\n",
    "ip.config.ProfileDir "
   ]
  },
  {
   "cell_type": "markdown",
   "metadata": {
    "collapsed": true,
    "run_control": {
     "read_only": false
    }
   },
   "source": [
    "IPython 設定:\n",
    "http://ipython.org/ipython-doc/stable/config/intro.html#setting-configurable-options"
   ]
  },
  {
   "cell_type": "code",
   "execution_count": null,
   "metadata": {
    "collapsed": true
   },
   "outputs": [],
   "source": []
  }
 ],
 "metadata": {
  "kernelspec": {
   "display_name": "Python 3",
   "language": "python",
   "name": "python3"
  },
  "language_info": {
   "codemirror_mode": {
    "name": "ipython",
    "version": 3
   },
   "file_extension": ".py",
   "mimetype": "text/x-python",
   "name": "python",
   "nbconvert_exporter": "python",
   "pygments_lexer": "ipython3",
   "version": "3.4.3"
  }
 },
 "nbformat": 4,
 "nbformat_minor": 0
}
