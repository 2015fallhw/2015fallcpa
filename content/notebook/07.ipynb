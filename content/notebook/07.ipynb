<div class="entry-content"><p>以下利用 Brython 在網頁寫 Python 繪圖</p> 
<!-- 導入 brython_dist.js --> 

<script type="text/javascript" src="js/Brython3.2.3-20151122-082712/brython.js"></script> 

<!-- 啟動 brython() --> 

<script> 
window.onload=function(){ 
brython(1); 
} 
</script> 

<!-- 以下利用 Brython 程式執行繪圖 --> 

<canvas id="plotarea" width="500" height="500"></canvas> 

<script type="text/python3"> 
# 導入 doc 
from browser import document as doc 
import math 

# 準備繪圖畫布 
canvas = doc["plotarea"] 
ctx = canvas.getContext("2d") 

# 開始畫直線 

ctx.beginPath() 
ctx.lineWidth = 10 
ctx.moveTo(200,400) 
ctx.lineTo(200,320 ) 
ctx.strokeStyle = "#006000" 
ctx.stroke() 

ctx.beginPath() 
ctx.lineWidth = 10 
ctx.moveTo(200, 400) 
ctx.lineTo(240,400 ) 
ctx.strokeStyle = "#006000" 
ctx.stroke() 

ctx.beginPath() 
ctx.lineWidth = 10 
ctx.moveTo(240, 400) 
ctx.lineTo(240,320) 
ctx.strokeStyle = "#006000" 
ctx.stroke() 

ctx.beginPath() 
ctx.lineWidth = 10 
ctx.moveTo(80,320) 
ctx.lineTo(360,320 ) 
ctx.strokeStyle = "#006000" 
ctx.stroke() 

ctx.beginPath() 
ctx.lineWidth = 10 
ctx.moveTo(80,320) 
ctx.lineTo(160,240 ) 
ctx.strokeStyle = "#006000" 
ctx.stroke() 

ctx.beginPath() 
ctx.lineWidth = 10 
ctx.moveTo(360,320) 
ctx.lineTo(280,240 ) 
ctx.strokeStyle = "#006000" 
ctx.stroke() 

ctx.beginPath() 
ctx.lineWidth = 10 
ctx.moveTo(120,240) 
ctx.lineTo(160,240 ) 
ctx.strokeStyle = "#006000" 
ctx.stroke() 

ctx.beginPath() 
ctx.lineWidth = 10 
ctx.moveTo(280,240) 
ctx.lineTo(320,240 ) 
ctx.strokeStyle = "#006000" 
ctx.stroke() 

ctx.beginPath() 
ctx.lineWidth = 10 
ctx.moveTo(120,240) 
ctx.lineTo(200,160 ) 
ctx.strokeStyle = "#006000" 
ctx.stroke() 

ctx.beginPath() 
ctx.lineWidth = 10 
ctx.moveTo(320,240) 
ctx.lineTo(240,160 ) 
ctx.strokeStyle = "#006000" 
ctx.stroke() 

ctx.beginPath() 
ctx.lineWidth = 10 
ctx.moveTo(160,160) 
ctx.lineTo(200,160 ) 
ctx.strokeStyle = "#006000" 
ctx.stroke() 

ctx.beginPath() 
ctx.lineWidth = 10 
ctx.moveTo(240,160) 
ctx.lineTo(280,160 ) 
ctx.strokeStyle = "#006000" 
ctx.stroke() 

ctx.beginPath() 
ctx.lineWidth = 10 
ctx.moveTo(160,160) 
ctx.lineTo(220,80 ) 
ctx.strokeStyle = "#006000" 
ctx.stroke() 

ctx.beginPath() 
ctx.lineWidth = 10 
ctx.moveTo(280,160) 
ctx.lineTo(220,80 ) 
ctx.strokeStyle = "#006000" 
ctx.stroke() 

ctx.beginPath() 
ctx.lineWidth = 10 
ctx.moveTo(200,120) 
ctx.lineTo(220,40 ) 
ctx.strokeStyle = "#FFFF37" 
ctx.stroke() 

ctx.beginPath() 
ctx.lineWidth = 10 
ctx.moveTo(220,40) 
ctx.lineTo(260,120 ) 
ctx.strokeStyle = "#FFFF37" 
ctx.stroke() 

ctx.beginPath() 
ctx.lineWidth = 10 
ctx.moveTo(260,120) 
ctx.lineTo(180,70 ) 
ctx.strokeStyle = "#FFFF37" 
ctx.stroke() 

ctx.beginPath() 
ctx.lineWidth = 10 
ctx.moveTo(180,70) 
ctx.lineTo(270,70 ) 
ctx.moveTo(270,70) 
ctx.lineTo(200,120 ) 
ctx.strokeStyle = "#FFFF37" 
ctx.stroke() 
</script></div>