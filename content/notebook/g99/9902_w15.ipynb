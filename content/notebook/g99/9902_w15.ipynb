{
 "cells": [
  {
   "cell_type": "markdown",
   "metadata": {
    "run_control": {
     "read_only": false
    }
   },
   "source": [
    "<!-- 導入 brython_dist.js -->\n",
    "\n",
    "<script type=\"text/javascript\" src=\"http://brython.info/src/brython_dist.js\"></script>\n",
    "\n",
    "<!-- 啟動 brython() -->\n",
    "\n",
    "<script>\n",
    "window.onload=function(){\n",
    "brython(1);\n",
    "}\n",
    "</script>\n",
    "\n",
    "<!-- 以下利用 Brython 程式執行繪圖 -->\n",
    "\n",
    "<canvas id=\"plotarea\" width=\"300\" height=\"200\"></canvas>\n",
    "\n",
    "<script type=\"text/python3\">\n",
    "# 導入 doc\n",
    "from browser import document as doc\n",
    "import math\n",
    "\n",
    "# 準備繪圖畫布\n",
    "canvas = doc[\"plotarea\"]\n",
    "ctx = canvas.getContext(\"2d\")\n",
    "# 進行座標轉換, x 軸不變, y 軸反向且移動 canvas.height 單位光點\n",
    "# ctx.setTransform(1, 0, 0, -1, 0, canvas.height)\n",
    "# 以下採用 canvas 原始座標繪圖\n",
    "flag_w = canvas.width\n",
    "flag_h = canvas.height\n",
    "circle_x = flag_w/4\n",
    "circle_y = flag_h/4\n",
    "# 先畫滿地紅\n",
    "ctx.fillStyle='rgb(255, 0, 0)'\n",
    "ctx.fillRect(0,0,flag_w,flag_h)\n",
    "# 再畫青天\n",
    "ctx.fillStyle='rgb(0, 0, 150)'\n",
    "ctx.fillRect(0,0,flag_w/2,flag_h/2)\n",
    "# 畫十二道光芒白日\n",
    "ctx.beginPath()\n",
    "star_radius = flag_w/8\n",
    "angle = 0\n",
    "for i in range(24):\n",
    "    angle += 5*math.pi*2/12\n",
    "    toX = circle_x + math.cos(angle)*star_radius\n",
    "    toY = circle_y + math.sin(angle)*star_radius\n",
    "    # 只有 i 為 0 時移動到 toX, toY, 其餘都進行 lineTo\n",
    "    if (i):\n",
    "        ctx.lineTo(toX, toY)\n",
    "    else:\n",
    "        ctx.moveTo(toX, toY)\n",
    "ctx.closePath()\n",
    "# 將填色設為白色\n",
    "ctx.fillStyle = '#fff'\n",
    "ctx.fill()\n",
    "# 白日:藍圈\n",
    "ctx.beginPath()\n",
    "ctx.arc(circle_x, circle_y, flag_w*17/240, 0, math.pi*2, True)\n",
    "ctx.closePath()\n",
    "# 填色設為藍色\n",
    "ctx.fillStyle = 'rgb(0, 0, 149)'\n",
    "ctx.fill()\n",
    "# 白日:白心\n",
    "ctx.beginPath()\n",
    "ctx.arc(circle_x, circle_y, flag_w/16, 0, math.pi*2, True)\n",
    "ctx.closePath()\n",
    "# 填色設為白色\n",
    "ctx.fillStyle = '#fff'\n",
    "ctx.fill()\n",
    "</script>"
   ]
  }
 ],
 "metadata": {
  "kernelspec": {
   "display_name": "Python 3",
   "language": "python",
   "name": "python3"
  },
  "language_info": {
   "codemirror_mode": {
    "name": "ipython",
    "version": 3
   },
   "file_extension": ".py",
   "mimetype": "text/x-python",
   "name": "python",
   "nbconvert_exporter": "python",
   "pygments_lexer": "ipython3",
   "version": "3.4.3"
  }
 },
 "nbformat": 4,
 "nbformat_minor": 0
}
