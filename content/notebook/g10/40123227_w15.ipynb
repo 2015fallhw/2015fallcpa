{
 "cells": [
  {
   "cell_type": "markdown",
   "metadata": {
    "run_control": {
     "read_only": false
    }
   },
   "source": [
    "%%%%%  這裡是學號 40123227 組員針對 W15 所寫的分組報告內容 %%%%%\n",
    "\n",
    "可以請組長在 .md 檔案中引入這個檔案的內容"
   ]
  },
  {
   "cell_type": "code",
   "execution_count": null,
   "metadata": {
    "collapsed": true,
    "run_control": {
     "read_only": false
    }
   },
   "outputs": [],
   "source": [
    "<!-- 導入 brython.js -->\n",
    "\n",
    "<script type=\"text/javascript\" src=\"js/Brython3.2.3-20151122-082712/brython.js\"></script>\n",
    "\n",
    "<!-- 啟動 brython() -->\n",
    "\n",
    "<script>\n",
    "window.onload=function(){\n",
    "brython(1);\n",
    "}\n",
    "</script>\n",
    "\n",
    "<!-- 以下利用 Brython 程式執行繪圖 -->\n",
    "\n",
    "<canvas id=\"plotarea\" width=\"500\" height=\"500\"></canvas>\n",
    "\n",
    "<script type=\"text/python3\">\n",
    "# 導入 doc\n",
    "from browser import document as doc\n",
    "from browser import console\n",
    "import math\n",
    "\n",
    "# 準備繪圖畫布\n",
    "canvas = doc[\"plotarea\"]\n",
    "ctx = canvas.getContext(\"2d\")\n",
    "\n",
    "# 進行座標轉換, x 軸不變, y 軸反向且移動 500 光點\n",
    "ctx.setTransform(1, 0, 0, -1, 0, 500)\n",
    "\n",
    "# 大禮物(方形)\n",
    "ctx.beginPath()\n",
    "ctx.lineWidth = 5\n",
    "ctx.moveTo(94, 30)\n",
    "ctx.lineTo(86, 180)\n",
    "ctx.lineTo(293, 180)\n",
    "ctx.lineTo(279, 30)\n",
    "ctx.lineTo(94, 30)\n",
    "# 大禮物(緞帶)\n",
    "ctx.lineTo(91, 92)\n",
    "ctx.lineTo(285, 86)\n",
    "ctx.lineTo(286, 105)\n",
    "ctx.lineTo(90, 117)\n",
    "ctx.lineTo(86, 180)\n",
    "ctx.lineTo(174, 180)\n",
    "ctx.lineTo(179, 30)\n",
    "ctx.lineTo(199, 30)\n",
    "ctx.lineTo(199, 180)\n",
    "# 大禮物(蝴蝶結)\n",
    "ctx.lineTo(186, 180)\n",
    "ctx.lineTo(237, 206)\n",
    "ctx.lineTo(228, 256)\n",
    "ctx.lineTo(190, 230)\n",
    "ctx.lineTo(186, 180)\n",
    "ctx.lineTo(178, 241)\n",
    "ctx.lineTo(144, 279)\n",
    "ctx.lineTo(138, 223)\n",
    "ctx.lineTo(186, 180)\n",
    "ctx.strokeStyle = \"rgb(255, 0, 0)\"\n",
    "ctx.stroke()\n",
    "\n",
    "# 小禮物(方形)\n",
    "ctx.beginPath()\n",
    "ctx.lineWidth = 3\n",
    "ctx.moveTo(316, 30)\n",
    "ctx.lineTo(312, 105)\n",
    "ctx.lineTo(416, 105)\n",
    "ctx.lineTo(409, 30)\n",
    "ctx.lineTo(316, 30)\n",
    "# 小禮物(緞帶)\n",
    "ctx.lineTo(315, 61)\n",
    "ctx.lineTo(412, 58)\n",
    "ctx.lineTo(413, 76)\n",
    "ctx.lineTo(314, 73)\n",
    "ctx.lineTo(312, 105)\n",
    "ctx.lineTo(356, 105)\n",
    "ctx.lineTo(353, 30)\n",
    "ctx.lineTo(365, 30)\n",
    "ctx.lineTo(369, 105)\n",
    "# 小禮物(蝴蝶結)\n",
    "ctx.lineTo(362, 105)\n",
    "ctx.lineTo(388, 115)\n",
    "ctx.lineTo(390, 143)\n",
    "ctx.lineTo(368, 127)\n",
    "ctx.lineTo(362, 105)\n",
    "ctx.lineTo(355, 131)\n",
    "ctx.lineTo(328, 140)\n",
    "ctx.lineTo(332, 119)\n",
    "ctx.lineTo(362, 105)\n",
    "ctx.strokeStyle = \"rgb(0, 255, 0)\"\n",
    "ctx.stroke()\n",
    "\n",
    "</script>"
   ]
  }
 ],
 "metadata": {
  "kernelspec": {
   "display_name": "Python 3",
   "language": "python",
   "name": "python3"
  },
  "language_info": {
   "codemirror_mode": {
    "name": "ipython",
    "version": 3
   },
   "file_extension": ".py",
   "mimetype": "text/x-python",
   "name": "python",
   "nbconvert_exporter": "python",
   "pygments_lexer": "ipython3",
   "version": "3.4.3"
  }
 },
 "nbformat": 4,
 "nbformat_minor": 0
}
