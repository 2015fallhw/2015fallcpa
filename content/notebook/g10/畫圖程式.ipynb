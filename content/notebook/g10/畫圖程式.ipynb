{
 "cells": [
  {
   "cell_type": "code",
   "execution_count": null,
   "metadata": {
    "collapsed": true,
    "run_control": {
     "read_only": false
    }
   },
   "outputs": [],
   "source": [
    "<!-- 導入 brython.js -->\n",
    "\n",
    "<script type=\"text/javascript\" src=\"js/Brython3.2.3-20151122-082712/brython.js\"></script>\n",
    "\n",
    "<!-- 啟動 brython() -->\n",
    "\n",
    "<script>\n",
    "window.onload=function(){\n",
    "brython(1);\n",
    "}\n",
    "</script>\n",
    "\n",
    "<!-- 以下利用 Brython 程式執行繪圖 -->\n",
    "\n",
    "<canvas id=\"plotarea\" width=\"300\" height=\"200\"></canvas>\n",
    "\n",
    "<script type=\"text/python3\">\n",
    "# 導入 doc\n",
    "from browser import document as doc\n",
    "from browser import console\n",
    "import math\n",
    "\n",
    "# 準備繪圖畫布\n",
    "canvas = doc[\"plotarea\"]\n",
    "ctx = canvas.getContext(\"2d\")\n",
    "\n",
    "# 開始畫直線\n",
    "ctx.beginPath()\n",
    "ctx.lineWidth = 5\n",
    "ctx.moveTo(0, 0)\n",
    "ctx.lineTo(100, 100)\n",
    "ctx.strokeStyle = \"#FF0000\"\n",
    "ctx.stroke()\n",
    "\n",
    "ctx.beginPath()\n",
    "ctx.lineWidth = 5\n",
    "ctx.moveTo(100, 0)\n",
    "ctx.lineTo(0, 100)\n",
    "ctx.strokeStyle = \"#0000ff\"\n",
    "ctx.stroke()\n",
    "\n",
    "x = 100\n",
    "y = 100\n",
    "\n",
    "# 利用 browser 模組中的 console.log 將資料列印在 console 區, 可以用來確認程式中各變數的值, 用法等同 print\n",
    "console.log(\"x 值為\"+str(x)+\", y 值為\"+str(y))\n",
    "\n",
    "# 利用迴圈畫水平線\n",
    "for i in range(5):\n",
    "    ctx.beginPath()\n",
    "    ctx.lineWidth = 5\n",
    "    ctx.moveTo(0, 10+i*20)\n",
    "    ctx.lineTo(100, 10+i*20)\n",
    "    ctx.strokeStyle = \"#0000ff\"\n",
    "    ctx.stroke()\n",
    "</script>\n",
    "\n",
    "</script>"
   ]
  }
 ],
 "metadata": {
  "kernelspec": {
   "display_name": "Python 3",
   "language": "python",
   "name": "python3"
  },
  "language_info": {
   "codemirror_mode": {
    "name": "ipython",
    "version": 3
   },
   "file_extension": ".py",
   "mimetype": "text/x-python",
   "name": "python",
   "nbconvert_exporter": "python",
   "pygments_lexer": "ipython3",
   "version": "3.4.3"
  }
 },
 "nbformat": 4,
 "nbformat_minor": 0
}
