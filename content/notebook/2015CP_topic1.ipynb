{
 "cells": [
  {
   "cell_type": "code",
   "execution_count": null,
   "metadata": {
    "collapsed": false,
    "run_control": {
     "read_only": true
    }
   },
   "outputs": [],
   "source": [
    "# print 函式可以列印字串\n",
    "# 用雙引號或單引號或三引號圈起的內容就是字串\n",
    "# 利用 print 列印單一 *\n",
    "print(\"*\")"
   ]
  },
  {
   "cell_type": "code",
   "execution_count": null,
   "metadata": {
    "collapsed": true,
    "run_control": {
     "read_only": true
    }
   },
   "outputs": [],
   "source": [
    "# 利用 print 列印3個 *\n",
    "print(\"***\")"
   ]
  },
  {
   "cell_type": "code",
   "execution_count": null,
   "metadata": {
    "collapsed": false,
    "run_control": {
     "read_only": true
    }
   },
   "outputs": [],
   "source": [
    "# 利用 print 列印空白與 *\n",
    "print(\"*\")\n",
    "print(\" *\")\n",
    "print(\"  *\")"
   ]
  },
  {
   "cell_type": "code",
   "execution_count": null,
   "metadata": {
    "collapsed": false,
    "run_control": {
     "read_only": true
    }
   },
   "outputs": [],
   "source": [
    "# 可以用乘號列印五個 *\n",
    "print(\"*\"*5)"
   ]
  },
  {
   "cell_type": "code",
   "execution_count": null,
   "metadata": {
    "collapsed": false,
    "run_control": {
     "read_only": true
    }
   },
   "outputs": [],
   "source": [
    "# for 迴圈可以透過 iterator 逐一執行迴圈內容\n",
    "for i in range(5):\n",
    "    print(i)"
   ]
  },
  {
   "cell_type": "code",
   "execution_count": null,
   "metadata": {
    "collapsed": false,
    "run_control": {
     "read_only": true
    }
   },
   "outputs": [],
   "source": [
    "for i in range(1, 5):\n",
    "    print(i)"
   ]
  },
  {
   "cell_type": "code",
   "execution_count": null,
   "metadata": {
    "collapsed": false,
    "run_control": {
     "read_only": true
    }
   },
   "outputs": [],
   "source": [
    "for i in range(1, 5):\n",
    "    # 只列印不等於 3 的數值\n",
    "    if i != 3:\n",
    "        print(i)"
   ]
  },
  {
   "cell_type": "code",
   "execution_count": null,
   "metadata": {
    "collapsed": false,
    "run_control": {
     "read_only": true
    }
   },
   "outputs": [],
   "source": [
    "for i in range(1, 5):\n",
    "    # 只列印用 2 除可以整除的偶數\n",
    "    if i %2 == 0:\n",
    "        print(i)"
   ]
  },
  {
   "cell_type": "code",
   "execution_count": null,
   "metadata": {
    "collapsed": false,
    "run_control": {
     "read_only": true
    }
   },
   "outputs": [],
   "source": [
    "for i in range(1, 5):\n",
    "    # 只列印大於 3 的數值\n",
    "    if i > 3:\n",
    "        print(i)"
   ]
  },
  {
   "cell_type": "code",
   "execution_count": null,
   "metadata": {
    "collapsed": false,
    "run_control": {
     "read_only": true
    }
   },
   "outputs": [],
   "source": [
    "for i in range(1, 5):\n",
    "    # 只列印大於 3 或者小於 2 的數值\n",
    "    if i > 3 or i < 2:\n",
    "        print(i)"
   ]
  },
  {
   "cell_type": "code",
   "execution_count": null,
   "metadata": {
    "collapsed": false,
    "run_control": {
     "read_only": true
    }
   },
   "outputs": [],
   "source": [
    "for i in range(1, 7):\n",
    "    # 只列印大於 2 且小於 5 的數值\n",
    "    if i < 5 and i > 2:\n",
    "        print(i)"
   ]
  },
  {
   "cell_type": "code",
   "execution_count": null,
   "metadata": {
    "collapsed": false,
    "run_control": {
     "read_only": true
    }
   },
   "outputs": [],
   "source": [
    "for i in range(1, 5):\n",
    "    print(\"*\"*i)"
   ]
  },
  {
   "cell_type": "code",
   "execution_count": null,
   "metadata": {
    "collapsed": false,
    "run_control": {
     "read_only": true
    }
   },
   "outputs": [],
   "source": [
    "for i in range(5, 0, -1):\n",
    "    print(\"*\"*i)"
   ]
  },
  {
   "cell_type": "code",
   "execution_count": null,
   "metadata": {
    "collapsed": false,
    "run_control": {
     "read_only": true
    }
   },
   "outputs": [],
   "source": [
    "for i in range(1, 5):\n",
    "    # 請利用 help(print) 檢視 print 函式用法\n",
    "    print(\" \"*(i-1), end=\"\")\n",
    "    print(\"*\")\n",
    "        "
   ]
  },
  {
   "cell_type": "code",
   "execution_count": null,
   "metadata": {
    "collapsed": false,
    "run_control": {
     "read_only": true
    }
   },
   "outputs": [],
   "source": [
    "for i in range(5, 0, -1):\n",
    "    print(\" \"*(i-1), end=\"\")\n",
    "    print(\"*\")"
   ]
  },
  {
   "cell_type": "code",
   "execution_count": null,
   "metadata": {
    "collapsed": false,
    "run_control": {
     "read_only": true
    }
   },
   "outputs": [],
   "source": [
    "for i in range(5):\n",
    "    print((5-i-1)*\" \", end=\"\")\n",
    "    print(\"*\", end=\"\")\n",
    "    print((2*i-1)*\" \", end=\"\")\n",
    "    if i != 0:\n",
    "        print(\"*\", end=\"\")\n",
    "    print((5-i-1)*\" \", end=\"\")\n",
    "    print()\n",
    "for i in range(5-2, -1, -1):\n",
    "    print((5-i-1)*\" \", end=\"\")\n",
    "    print(\"*\", end=\"\")\n",
    "    print((2*i-1)*\" \", end=\"\")\n",
    "    if i != 0:\n",
    "        print(\"*\", end=\"\")\n",
    "    print((5-i-1)*\" \", end=\"\")\n",
    "    print()"
   ]
  },
  {
   "cell_type": "code",
   "execution_count": null,
   "metadata": {
    "collapsed": false,
    "run_control": {
     "read_only": true
    }
   },
   "outputs": [],
   "source": [
    "def diamond(s):\n",
    "    for i in range(s):\n",
    "        print((s-i-1)*\" \", end=\"\")\n",
    "        print(\"*\", end=\"\")\n",
    "        print((2*i-1)*\" \", end=\"\")\n",
    "        if i != 0:\n",
    "            print(\"*\", end=\"\")\n",
    "        print((s-i-1)*\" \", end=\"\")\n",
    "        print()\n",
    "    for i in range(s-2, -1, -1):\n",
    "        print((s-i-1)*\" \", end=\"\")\n",
    "        print(\"*\", end=\"\")\n",
    "        print((2*i-1)*\" \", end=\"\")\n",
    "        if i != 0:\n",
    "            print(\"*\", end=\"\")\n",
    "        print((s-i-1)*\" \", end=\"\")\n",
    "        print()\n",
    "diamond(10)"
   ]
  },
  {
   "cell_type": "code",
   "execution_count": null,
   "metadata": {
    "collapsed": false,
    "run_control": {
     "read_only": true
    }
   },
   "outputs": [],
   "source": [
    "def diamond(s):\n",
    "    for i in range(s):\n",
    "        print((s-i-1)*\" \", end=\"\")\n",
    "        print(\"*\", end=\"\")\n",
    "        print((2*i-1)*\"*\", end=\"\")\n",
    "        if i != 0:\n",
    "            print(\"*\", end=\"\")\n",
    "        print((s-i-1)*\" \", end=\"\")\n",
    "        print()\n",
    "    for i in range(s-2, -1, -1):\n",
    "        print((s-i-1)*\" \", end=\"\")\n",
    "        print(\"*\", end=\"\")\n",
    "        print((2*i-1)*\"*\", end=\"\")\n",
    "        if i != 0:\n",
    "            print(\"*\", end=\"\")\n",
    "        print((s-i-1)*\" \", end=\"\")\n",
    "        print()\n",
    "diamond(10)"
   ]
  },
  {
   "cell_type": "code",
   "execution_count": null,
   "metadata": {
    "collapsed": false,
    "run_control": {
     "read_only": true
    }
   },
   "outputs": [],
   "source": [
    "def diamond(s, p):\n",
    "    for i in range(s):\n",
    "        print((s-i-1)*\" \", end=\"\")\n",
    "        print(p, end=\"\")\n",
    "        print((2*i-1)*\" \", end=\"\")\n",
    "        if i != 0:\n",
    "            print(p, end=\"\")\n",
    "        print((s-i-1)*\" \", end=\"\")\n",
    "        print()\n",
    "    for i in range(s-2, -1, -1):\n",
    "        print((s-i-1)*\" \", end=\"\")\n",
    "        print(p, end=\"\")\n",
    "        print((2*i-1)*\" \", end=\"\")\n",
    "        if i != 0:\n",
    "            print(p, end=\"\")\n",
    "        print((s-i-1)*\" \", end=\"\")\n",
    "        print()\n",
    "diamond(10,\"*\")\n",
    "diamond(5, \"a\")"
   ]
  },
  {
   "cell_type": "code",
   "execution_count": null,
   "metadata": {
    "collapsed": false,
    "run_control": {
     "read_only": true
    }
   },
   "outputs": [],
   "source": [
    "def diamond(s, p):\n",
    "    for i in range(s):\n",
    "        print((s-i-1)*\" \", end=\"\")\n",
    "        print(p, end=\"\")\n",
    "        print((2*i-1)*p, end=\"\")\n",
    "        if i != 0:\n",
    "            print(p, end=\"\")\n",
    "        print((s-i-1)*\" \", end=\"\")\n",
    "        print()\n",
    "    for i in range(s-2, -1, -1):\n",
    "        print((s-i-1)*\" \", end=\"\")\n",
    "        print(p, end=\"\")\n",
    "        print((2*i-1)*p, end=\"\")\n",
    "        if i != 0:\n",
    "            print(p, end=\"\")\n",
    "        print((s-i-1)*\" \", end=\"\")\n",
    "        print()\n",
    "diamond(10,\"*\")\n",
    "diamond(5, \"a\")\n",
    "diamond(5, \"s\")"
   ]
  },
  {
   "cell_type": "code",
   "execution_count": null,
   "metadata": {
    "collapsed": false,
    "run_control": {
     "read_only": true
    }
   },
   "outputs": [],
   "source": [
    "def 菱形(n):\n",
    "    數列1 = [x+n for x in range(0, n)]\n",
    "    數列2 = list(range(n, 0, -1))\n",
    "    #print(數列1)\n",
    "    #print(數列2)\n",
    "    數列3 = zip(數列1, 數列2)\n",
    "    for i in 數列3:\n",
    "        for j in range(2*n):\n",
    "            if j == i[0] or j == i[1]:\n",
    "                print(\"*\", end=\"\")\n",
    "            else:\n",
    "                print(\" \", end=\"\")\n",
    "        print()\n",
    "\n",
    "    數列4 = [x for x in range(2, n+1)]\n",
    "    數列5 = [x+n-2 for x in range(n, 0, -1)]\n",
    "    #print(數列4)\n",
    "    #print(數列5)\n",
    "    數列6 = zip(數列4, 數列5)\n",
    "    for i in 數列6:\n",
    "        for j in range(2*n):\n",
    "            if j == i[0] or j == i[1]:\n",
    "                print(\"*\", end=\"\")\n",
    "            else:\n",
    "                print(\" \", end=\"\")\n",
    "        print()\n",
    "\n",
    "n = 10\n",
    "菱形(n)"
   ]
  },
  {
   "cell_type": "code",
   "execution_count": null,
   "metadata": {
    "collapsed": true,
    "run_control": {
     "read_only": false
    }
   },
   "outputs": [],
   "source": [
    "'''請設法利用上述程式片段, 列印下列字串圖案:\n",
    "\n",
    "*\n",
    "**\n",
    "***\n",
    "****\n",
    "*****\n",
    "****\n",
    "***\n",
    "**\n",
    "*\n",
    "\n",
    "以及\n",
    "\n",
    "*\n",
    " *\n",
    "  *\n",
    "   *\n",
    "    *\n",
    "   *\n",
    "  *\n",
    " *\n",
    "*\n",
    "\n",
    "以及\n",
    "\n",
    "    *    \n",
    "   * *   \n",
    "  *   *  \n",
    " *     * \n",
    "*       *\n",
    " *     * \n",
    "  *   *  \n",
    "   * *   \n",
    "    *   \n",
    "   * *   \n",
    "  *   *  \n",
    " *     * \n",
    "*       *\n",
    " *     * \n",
    "  *   *  \n",
    "   * *   \n",
    "    * \n",
    "    \n",
    "以及\n",
    "\n",
    "*       *\n",
    " *     * \n",
    "  *   *  \n",
    "   * *   \n",
    "    *    \n",
    "   * *   \n",
    "  *   *  \n",
    " *     * \n",
    "*       *\n",
    "\n",
    "以及\n",
    "\n",
    "*       *\n",
    " *     * \n",
    "  *   *  \n",
    "   * *   \n",
    "    *    \n",
    "   * *   \n",
    "  *   *  \n",
    " *     * \n",
    "*       *\n",
    " *     * \n",
    "  *   *  \n",
    "   * *   \n",
    "    * \n",
    "   * *   \n",
    "  *   *  \n",
    " *     * \n",
    "*       *\n",
    "'''"
   ]
  }
 ],
 "metadata": {
  "kernelspec": {
   "display_name": "Python 3",
   "language": "python",
   "name": "python3"
  },
  "language_info": {
   "codemirror_mode": {
    "name": "ipython",
    "version": 3
   },
   "file_extension": ".py",
   "mimetype": "text/x-python",
   "name": "python",
   "nbconvert_exporter": "python",
   "pygments_lexer": "ipython3",
   "version": "3.4.3"
  }
 },
 "nbformat": 4,
 "nbformat_minor": 0
}
