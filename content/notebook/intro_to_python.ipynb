{
 "cells": [
  {
   "cell_type": "markdown",
   "metadata": {},
   "source": [
    "https://github.com/ipython/ipython/wiki/A-gallery-of-interesting-IPython-Notebooks"
   ]
  },
  {
   "cell_type": "code",
   "execution_count": null,
   "metadata": {
    "collapsed": false,
    "run_control": {
     "read_only": true
    },
    "scrolled": true
   },
   "outputs": [],
   "source": [
    "for 索引 in range(6):\n",
    "    print(索引)"
   ]
  },
  {
   "cell_type": "code",
   "execution_count": null,
   "metadata": {
    "collapsed": false,
    "run_control": {
     "read_only": true
    }
   },
   "outputs": [],
   "source": [
    "from IPython.lib import passwd\n",
    "passw"
   ]
  },
  {
   "cell_type": "code",
   "execution_count": null,
   "metadata": {
    "collapsed": false,
    "run_control": {
     "read_only": true
    }
   },
   "outputs": [],
   "source": [
    "字串資料 = \"這是一個字串資料\"\n",
    "print(\"字串資料的長度為:\", len(字串資料))\n",
    "print(\"-\"*30)\n",
    "位址 = 0\n",
    "for 索引 in 字串資料:\n",
    "    print(索引)\n",
    "    print(\"--- 以上為列印索引 ---\")\n",
    "    print(字串資料[位址])\n",
    "    print(\"--- 以上為列印字串資料數列 ---\")\n",
    "    位址 = 位址 + 1"
   ]
  },
  {
   "cell_type": "code",
   "execution_count": null,
   "metadata": {
    "collapsed": false,
    "run_control": {
     "read_only": true
    }
   },
   "outputs": [],
   "source": [
    "# 本程式在 demo\n",
    "# print()\n",
    "# def\n",
    "# range()\n",
    "# list()\n",
    "# list 內容變化\n",
    "# reversed()\n",
    "# zip()\n",
    "# if elif else\n",
    "\n",
    "def 列印星號(輸入變數):\n",
    "    數列1 = list(range(輸入變數))\n",
    "    數列2 = [x+輸入變數-1 for x in 數列1]\n",
    "    反數列2 = reversed(數列1)\n",
    "    集合 = zip(數列2, 反數列2)\n",
    "    for 索引 in 集合:\n",
    "        for 數 in range(輸入變數*2):\n",
    "            if 數 == 索引[0] or 數 == 索引[1]:\n",
    "                print(\"*\", end=\"\")\n",
    "            else:\n",
    "                print(\" \", end=\"\")\n",
    "        print()\n",
    "\n",
    "def 列印星號2(輸入變數):\n",
    "    數列1 = list(range(輸入變數))\n",
    "    數列2 = [x+輸入變數 for x in 數列1]\n",
    "    數列3 = [x+1 for x in 數列1]\n",
    "    反數列2 = reversed(數列2)\n",
    "    集合 = zip(數列3, 反數列2)\n",
    "    for 索引 in 集合:\n",
    "        for 數 in range(輸入變數*2):\n",
    "            if 數 == 索引[0] or 數 == 索引[1]:\n",
    "                print(\"*\", end=\"\")\n",
    "            else:\n",
    "                print(\" \", end=\"\")\n",
    "        print()\n",
    "\n",
    "def 列印星號3(輸入變數):\n",
    "    數列1 = list(range(輸入變數))\n",
    "    數列2 = [x+輸入變數-1 for x in 數列1]\n",
    "    反數列2 = reversed(數列1)\n",
    "    集合 = zip(數列2, 反數列2)\n",
    "    for 索引 in 集合:\n",
    "        for 數 in range(輸入變數*2-1):\n",
    "            if 數 <= 索引[0] and 數 >= 索引[1]:\n",
    "                print(\"*\", end=\"\")\n",
    "            else:\n",
    "                print(\" \", end=\"\")\n",
    "        print()\n",
    "\n",
    "def 列印星號4(輸入變數):\n",
    "    數列1 = list(range(輸入變數))\n",
    "    數列2 = [x+輸入變數 for x in 數列1]\n",
    "    數列3 = [x+1 for x in 數列1]\n",
    "    反數列2 = reversed(數列2)\n",
    "    集合 = zip(數列3, 反數列2)\n",
    "    for 索引 in 集合:\n",
    "        for 數 in range(輸入變數*2+1):\n",
    "            if 數 >= 索引[0] and 數 <= 索引[1]:\n",
    "                print(\"2\", end=\"\")\n",
    "            else:\n",
    "                print(\"1\", end=\"\")\n",
    "        print()\n",
    "\n",
    "def 列印菱形(輸入變數):\n",
    "    列印星號3(輸入變數)\n",
    "    列印星號4(輸入變數-1)\n",
    "\n",
    "列印菱形(11)\n",
    "\n",
    "# 請將本程式改為菱形中間也要列印星號"
   ]
  },
  {
   "cell_type": "code",
   "execution_count": null,
   "metadata": {
    "collapsed": false,
    "run_control": {
     "read_only": false
    }
   },
   "outputs": [],
   "source": [
    "def 增量列印(行數):\n",
    "    # 基本的 print() 函式列印\n",
    "    # 只要將 4 改為 11, 就可以重複列印 10 行\n",
    "    #for 列印行數 in range(1, 4):\n",
    "    for 列印行數 in range(1, 行數+1):\n",
    "        print(\"Welcome to Python3 \", end=\"\")\n",
    "        for 列印個數 in range(列印行數):\n",
    "            print(\"*\", end=\"\")\n",
    "        # 完成多星號列印後, 必須額外要求跳行, 否則各行會列在同一行\n",
    "        print()\n",
    "\n",
    "增量列印(10)"
   ]
  },
  {
   "cell_type": "code",
   "execution_count": null,
   "metadata": {
    "collapsed": false,
    "run_control": {
     "read_only": false
    }
   },
   "outputs": [],
   "source": [
    "def 菱形(n):\n",
    "    數列1 = [x+n for x in range(0, n)]\n",
    "    數列2 = list(range(n, 0, -1))\n",
    "    數列3 = zip(數列1, 數列2)\n",
    "    for i in 數列3:\n",
    "        for j in range(2*n):\n",
    "            if j == i[0] or j == i[1]:\n",
    "                print(\"*\", end=\"\")\n",
    "            else:https://120.113.76.47:8888/notebooks/intro_to_python.ipynb#\n",
    "                print(\" \", end=\"\")\n",
    "        print()\n",
    "\n",
    "    數列4 = [x for x in range(2, n+1)]\n",
    "    數列5 = [x+n-2 for x in range(n, 0, -1)]\n",
    "    數列6 = zip(數列4, 數列5)\n",
    "    for i in 數列6:\n",
    "        for j in range(2*n):\n",
    "            if j == i[0] or j == i[1]:\n",
    "                print(\"*\", end=\"\")\n",
    "            else:\n",
    "                print(\" \", end=\"\")\n",
    "        print()\n",
    "\n",
    "n = 20\n",
    "菱形(n)"
   ]
  },
  {
   "cell_type": "code",
   "execution_count": null,
   "metadata": {
    "collapsed": false,
    "run_control": {
     "read_only": false
    }
   },
   "outputs": [],
   "source": [
    "from mpl_toolkits.mplot3d import Axes3D\n",
    "from matplotlib import cm\n",
    "from matplotlib.colors import LogNorm\n",
    "import matplotlib.pyplot as plt\n",
    "\n",
    "try:\n",
    "    import numpy as np\n",
    "except:\n",
    "    exit()\n",
    "\n",
    "from deap import benchmarks\n",
    "\n",
    "def bohachevsky_arg0(sol):\n",
    "    return benchmarks.bohachevsky(sol)[0]\n",
    "\n",
    "fig = plt.figure()\n",
    "ax = Axes3D(fig, azim = -29, elev = 50)\n",
    "# ax = Axes3D(fig)\n",
    "X = np.arange(-15, 15, 0.5)\n",
    "Y = np.arange(-15, 15, 0.5)\n",
    "X, Y = np.meshgrid(X, Y)\n",
    "Z = np.zeros(X.shape)\n",
    "\n",
    "for i in range(X.shape[0]):\n",
    "    for j in range(X.shape[1]):\n",
    "        Z[i,j] = bohachevsky_arg0((X[i,j],Y[i,j]))\n",
    "\n",
    "ax.plot_surface(X, Y, Z, rstride=1, cstride=1,  norm=LogNorm(), cmap=cm.jet, linewidth=0.2)\n",
    " \n",
    "plt.xlabel(\"x\")\n",
    "plt.ylabel(\"y\")\n",
    "\n",
    "plt.show()"
   ]
  },
  {
   "cell_type": "code",
   "execution_count": null,
   "metadata": {
    "collapsed": true,
    "run_control": {
     "read_only": false
    }
   },
   "outputs": [],
   "source": [
    "\n",
    "from mpl_toolkits.mplot3d import Axes3D\n",
    "from matplotlib import cm\n",
    "from matplotlib.colors import LogNorm\n",
    "import matplotlib.pyplot as plt\n",
    "\n",
    "try:\n",
    "    import numpy as np\n",
    "except:\n",
    "    exit()\n",
    "\n",
    "from deap import benchmarks\n",
    "\n",
    "def untuple(sol):\n",
    "    return benchmarks.himmelblau(sol)[0]\n",
    "\n",
    "fig = plt.figure()\n",
    "ax = Axes3D(fig, azim = -29, elev = 49)\n",
    "X = np.arange(-6, 6, 0.1)\n",
    "Y = np.arange(-6, 6, 0.1)\n",
    "X, Y = np.meshgrid(X, Y)\n",
    "Z = np.array(list(map(untuple, zip(X,Y))))\n",
    "\n",
    "ax.plot_surface(X, Y, Z, rstride=1, cstride=1, norm=LogNorm(), cmap=cm.jet, linewidth=0.2)\n",
    " \n",
    "plt.xlabel(\"x\")\n",
    "plt.ylabel(\"y\")\n",
    "\n",
    "plt.show()"
   ]
  },
  {
   "cell_type": "code",
   "execution_count": 1,
   "metadata": {
    "collapsed": false,
    "run_control": {
     "read_only": false
    }
   },
   "outputs": [
    {
     "name": "stderr",
     "output_type": "stream",
     "text": [
      "WARNING: ip.register_post_execute is deprecated, use ip.events.register('post_run_cell', func) instead.\n"
     ]
    },
    {
     "name": "stdout",
     "output_type": "stream",
     "text": [
      "Error in callback <bound method Turtle.postExecuteTurtle of <NewTurtle.Turtle object at 0x00000000043AAA90>> (for post_run_cell):\n"
     ]
    },
    {
     "ename": "TypeError",
     "evalue": "data must be a dict, got: 'IPython.extensions.NewTurtle'",
     "output_type": "error",
     "traceback": [
      "\u001b[1;31m---------------------------------------------------------------------------\u001b[0m",
      "\u001b[1;31mTypeError\u001b[0m                                 Traceback (most recent call last)",
      "\u001b[1;32my:\\Anaconda3\\lib\\site-packages\\IPython\\extensions\\NewTurtle.py\u001b[0m in \u001b[0;36mpostExecuteTurtle\u001b[1;34m(self)\u001b[0m\n\u001b[0;32m     25\u001b[0m \u001b[1;33m\u001b[0m\u001b[0m\n\u001b[0;32m     26\u001b[0m     \u001b[1;32mdef\u001b[0m \u001b[0mpostExecuteTurtle\u001b[0m\u001b[1;33m(\u001b[0m\u001b[0mself\u001b[0m\u001b[1;33m)\u001b[0m\u001b[1;33m:\u001b[0m\u001b[1;33m\u001b[0m\u001b[0m\n\u001b[1;32m---> 27\u001b[1;33m         \u001b[0mpublish_display_data\u001b[0m\u001b[1;33m(\u001b[0m\u001b[1;34m\"IPython.extensions.NewTurtle\"\u001b[0m\u001b[1;33m,\u001b[0m\u001b[1;33m{\u001b[0m\u001b[1;34m'application/turtle'\u001b[0m \u001b[1;33m:\u001b[0m \u001b[0mTurtle\u001b[0m\u001b[1;33m.\u001b[0m\u001b[0mTURTLE_BUFF\u001b[0m\u001b[1;33m}\u001b[0m\u001b[1;33m)\u001b[0m\u001b[1;33m\u001b[0m\u001b[0m\n\u001b[0m\u001b[0;32m     28\u001b[0m         \u001b[0mTurtle\u001b[0m\u001b[1;33m.\u001b[0m\u001b[0mTURTLE_BUFF\u001b[0m \u001b[1;33m=\u001b[0m \u001b[1;34m\"\"\u001b[0m\u001b[1;33m\u001b[0m\u001b[0m\n\u001b[0;32m     29\u001b[0m         \u001b[0mTurtle\u001b[0m\u001b[1;33m.\u001b[0m\u001b[0mREGISTERED\u001b[0m \u001b[1;33m=\u001b[0m \u001b[1;36m1\u001b[0m\u001b[1;33m\u001b[0m\u001b[0m\n",
      "\u001b[1;32my:\\Anaconda3\\lib\\site-packages\\IPython\\core\\display.py\u001b[0m in \u001b[0;36mpublish_display_data\u001b[1;34m(data, metadata, source)\u001b[0m\n\u001b[0;32m    114\u001b[0m     InteractiveShell.instance().display_pub.publish(\n\u001b[0;32m    115\u001b[0m         \u001b[0mdata\u001b[0m\u001b[1;33m=\u001b[0m\u001b[0mdata\u001b[0m\u001b[1;33m,\u001b[0m\u001b[1;33m\u001b[0m\u001b[0m\n\u001b[1;32m--> 116\u001b[1;33m         \u001b[0mmetadata\u001b[0m\u001b[1;33m=\u001b[0m\u001b[0mmetadata\u001b[0m\u001b[1;33m,\u001b[0m\u001b[1;33m\u001b[0m\u001b[0m\n\u001b[0m\u001b[0;32m    117\u001b[0m     )\n\u001b[0;32m    118\u001b[0m \u001b[1;33m\u001b[0m\u001b[0m\n",
      "\u001b[1;32my:\\Anaconda3\\lib\\site-packages\\IPython\\kernel\\zmq\\zmqshell.py\u001b[0m in \u001b[0;36mpublish\u001b[1;34m(self, data, metadata, source)\u001b[0m\n\u001b[0;32m     77\u001b[0m         \u001b[1;32mif\u001b[0m \u001b[0mmetadata\u001b[0m \u001b[1;32mis\u001b[0m \u001b[1;32mNone\u001b[0m\u001b[1;33m:\u001b[0m\u001b[1;33m\u001b[0m\u001b[0m\n\u001b[0;32m     78\u001b[0m             \u001b[0mmetadata\u001b[0m \u001b[1;33m=\u001b[0m \u001b[1;33m{\u001b[0m\u001b[1;33m}\u001b[0m\u001b[1;33m\u001b[0m\u001b[0m\n\u001b[1;32m---> 79\u001b[1;33m         \u001b[0mself\u001b[0m\u001b[1;33m.\u001b[0m\u001b[0m_validate_data\u001b[0m\u001b[1;33m(\u001b[0m\u001b[0mdata\u001b[0m\u001b[1;33m,\u001b[0m \u001b[0mmetadata\u001b[0m\u001b[1;33m)\u001b[0m\u001b[1;33m\u001b[0m\u001b[0m\n\u001b[0m\u001b[0;32m     80\u001b[0m         \u001b[0mcontent\u001b[0m \u001b[1;33m=\u001b[0m \u001b[1;33m{\u001b[0m\u001b[1;33m}\u001b[0m\u001b[1;33m\u001b[0m\u001b[0m\n\u001b[0;32m     81\u001b[0m         \u001b[0mcontent\u001b[0m\u001b[1;33m[\u001b[0m\u001b[1;34m'data'\u001b[0m\u001b[1;33m]\u001b[0m \u001b[1;33m=\u001b[0m \u001b[0mencode_images\u001b[0m\u001b[1;33m(\u001b[0m\u001b[0mdata\u001b[0m\u001b[1;33m)\u001b[0m\u001b[1;33m\u001b[0m\u001b[0m\n",
      "\u001b[1;32my:\\Anaconda3\\lib\\site-packages\\IPython\\core\\displaypub.py\u001b[0m in \u001b[0;36m_validate_data\u001b[1;34m(self, data, metadata)\u001b[0m\n\u001b[0;32m     48\u001b[0m \u001b[1;33m\u001b[0m\u001b[0m\n\u001b[0;32m     49\u001b[0m         \u001b[1;32mif\u001b[0m \u001b[1;32mnot\u001b[0m \u001b[0misinstance\u001b[0m\u001b[1;33m(\u001b[0m\u001b[0mdata\u001b[0m\u001b[1;33m,\u001b[0m \u001b[0mdict\u001b[0m\u001b[1;33m)\u001b[0m\u001b[1;33m:\u001b[0m\u001b[1;33m\u001b[0m\u001b[0m\n\u001b[1;32m---> 50\u001b[1;33m             \u001b[1;32mraise\u001b[0m \u001b[0mTypeError\u001b[0m\u001b[1;33m(\u001b[0m\u001b[1;34m'data must be a dict, got: %r'\u001b[0m \u001b[1;33m%\u001b[0m \u001b[0mdata\u001b[0m\u001b[1;33m)\u001b[0m\u001b[1;33m\u001b[0m\u001b[0m\n\u001b[0m\u001b[0;32m     51\u001b[0m         \u001b[1;32mif\u001b[0m \u001b[0mmetadata\u001b[0m \u001b[1;32mis\u001b[0m \u001b[1;32mnot\u001b[0m \u001b[1;32mNone\u001b[0m\u001b[1;33m:\u001b[0m\u001b[1;33m\u001b[0m\u001b[0m\n\u001b[0;32m     52\u001b[0m             \u001b[1;32mif\u001b[0m \u001b[1;32mnot\u001b[0m \u001b[0misinstance\u001b[0m\u001b[1;33m(\u001b[0m\u001b[0mmetadata\u001b[0m\u001b[1;33m,\u001b[0m \u001b[0mdict\u001b[0m\u001b[1;33m)\u001b[0m\u001b[1;33m:\u001b[0m\u001b[1;33m\u001b[0m\u001b[0m\n",
      "\u001b[1;31mTypeError\u001b[0m: data must be a dict, got: 'IPython.extensions.NewTurtle'"
     ]
    }
   ],
   "source": [
    "from NewTurtle import Turtle\n",
    "t=Turtle()\n",
    "t.forward(100)"
   ]
  },
  {
   "cell_type": "code",
   "execution_count": null,
   "metadata": {
    "collapsed": true,
    "run_control": {
     "read_only": false
    }
   },
   "outputs": [],
   "source": []
  }
 ],
 "metadata": {
  "kernelspec": {
   "display_name": "Python 3",
   "language": "python",
   "name": "python3"
  },
  "language_info": {
   "codemirror_mode": {
    "name": "ipython",
    "version": 3
   },
   "file_extension": ".py",
   "mimetype": "text/x-python",
   "name": "python",
   "nbconvert_exporter": "python",
   "pygments_lexer": "ipython3",
   "version": "3.4.3"
  }
 },
 "nbformat": 4,
 "nbformat_minor": 0
}
