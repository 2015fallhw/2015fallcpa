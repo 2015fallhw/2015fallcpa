{
 "cells": [
  {
   "cell_type": "markdown",
   "metadata": {
    "run_control": {
     "read_only": false
    }
   },
   "source": [
    "CADP\n",
    "\n",
    "http://www.grantadesign.com/education/edupack/content.htm\n",
    "\n",
    "[material selection in mechanical design.pdf](http://jpkc.fudan.edu.cn/picture/article/255/1c/8c/8a256ed84a98beafbd225ea6936e/43f6d2e4-9479-4872-9970-f70754fce954.pdf)\n",
    "\n",
    "[material education center](http://www.materials.ac.uk/resources/index.asp)\n",
    "\n",
    "https://github.com/DEAP/notebooks/blob/master/SIGEvolution.ipynb\n",
    "\n",
    "![google logo](https://www.google.com.tw/images/srpr/logo11w.png)\n",
    "\n",
    "```javascript\n",
    "function fancyAlert(arg) {\n",
    "  if(arg) {\n",
    "    $.facebox({div:'#foo'})\n",
    "  }\n",
    "}\n",
    "```\n",
    "[Deap 邊說邊演練](https://github.com/lmarti/evolutionary-computation-course/blob/master/AEC.02%20-%20Elements%20of%20Evolutionary%20Algorithms.ipynb)\n",
    "\n",
    "[Deap 就應該這樣上](http://lmarti.com/aec-2014)"
   ]
  },
  {
   "cell_type": "code",
   "execution_count": null,
   "metadata": {
    "collapsed": false
   },
   "outputs": [],
   "source": [
    "%matplotlib inline\n",
    "\n",
    "import pandas as pd\n",
    "import numpy as np\n",
    "import matplotlib\n",
    "\n",
    "from matplotlib import pyplot as plt\n",
    "\n",
    "ts = pd.Series(np.random.randn(1000), index=pd.date_range('1/1/2000', periods=1000))\n",
    "ts = ts.cumsum()\n",
    "\n",
    "df = pd.DataFrame(np.random.randn(1000, 4), index=ts.index,\n",
    "                  columns=['A', 'B', 'C', 'D'])\n",
    "df = df.cumsum()\n",
    "plt.figure(); df.plot(); plt.legend(loc='best')"
   ]
  },
  {
   "cell_type": "code",
   "execution_count": null,
   "metadata": {
    "collapsed": false,
    "run_control": {
     "read_only": false
    }
   },
   "outputs": [],
   "source": [
    "# 從 url 取得資料\n",
    "import urllib.request\n",
    "url = 'http://python4astronomers.github.com/_downloads/data.txt'\n",
    "open('data.txt', 'wb').write(urllib.request.urlopen(url).read())\n",
    "f = open('data.txt', 'r')\n",
    "print(f.read())"
   ]
  },
  {
   "cell_type": "code",
   "execution_count": null,
   "metadata": {
    "collapsed": false,
    "run_control": {
     "read_only": false
    }
   },
   "outputs": [],
   "source": [
    "%matplotlib inline\n",
    "import random\n",
    "from deap import base, creator, tools, algorithms\n",
    "creator.create(\"FitnessMax\", base.Fitness, weights=(1.0,))\n",
    "creator.create(\"Individual\", list, fitness=creator.FitnessMax)\n",
    "ind = creator.Individual([1, 0, 1, 1, 0])\n",
    "print(ind)\n",
    "print(type(ind))\n",
    "print(type(ind.fitness))\n",
    "toolbox = base.Toolbox()\n",
    "toolbox.register(\"attr_bool\", random.randint, 0, 1)\n",
    "toolbox.register(\"individual\", tools.initRepeat, creator.Individual, toolbox.attr_bool, n=10)\n",
    "toolbox.register(\"population\", tools.initRepeat, list, toolbox.individual)\n",
    "bit = toolbox.attr_bool()\n",
    "ind = toolbox.individual()\n",
    "pop = toolbox.population(n=3)\n",
    "\n",
    "print(\"bit is of type %s and has value\\n%s\" % (type(bit), bit))\n",
    "print(\"ind is of type %s and contains %d bits\\n%s\" % (type(ind), len(ind), ind))\n",
    "print(\"pop is of type %s and contains %d individuals\\n%s\" % (type(pop), len(pop), pop))\n",
    "def evalOneMax(individual):\n",
    "    return sum(individual),\n",
    "toolbox.register(\"evaluate\", evalOneMax)\n",
    "toolbox.register(\"mate\", tools.cxTwoPoint)\n",
    "toolbox.register(\"mutate\", tools.mutFlipBit, indpb=0.10)\n",
    "toolbox.register(\"select\", tools.selTournament, tournsize=3)\n",
    "ind = toolbox.individual()\n",
    "print(ind)\n",
    "toolbox.mutate(ind)\n",
    "print(ind)\n",
    "mutant = toolbox.clone(ind)\n",
    "print(mutant is ind)\n",
    "print(mutant == ind)\n",
    "def main():\n",
    "    import numpy\n",
    "    \n",
    "    pop = toolbox.population(n=50)\n",
    "    hof = tools.HallOfFame(1)\n",
    "    stats = tools.Statistics(lambda ind: ind.fitness.values)\n",
    "    stats.register(\"avg\", numpy.mean)\n",
    "    stats.register(\"min\", numpy.min)\n",
    "    stats.register(\"max\", numpy.max)\n",
    "    \n",
    "    pop, logbook = algorithms.eaSimple(pop, toolbox, cxpb=0.5, mutpb=0.2, ngen=10, stats=stats, halloffame=hof, verbose=True)\n",
    "    \n",
    "    return pop, logbook, hof\n",
    "\n",
    "pop, log, hof = main()\n",
    "print(\"Best individual is: %s\\nwith fitness: %s\" % (hof[0], hof[0].fitness))\n",
    "\n",
    "import matplotlib.pyplot as plt\n",
    "gen, avg, min_, max_ = log.select(\"gen\", \"avg\", \"min\", \"max\")\n",
    "plt.plot(gen, avg, label=\"average\")\n",
    "plt.plot(gen, min_, label=\"minimum\")\n",
    "plt.plot(gen, max_, label=\"maximum\")\n",
    "plt.xlabel(\"Generation\")\n",
    "plt.ylabel(\"Fitness\")\n",
    "plt.legend(loc=\"lower right\")"
   ]
  },
  {
   "cell_type": "code",
   "execution_count": null,
   "metadata": {
    "collapsed": false,
    "run_control": {
     "read_only": false
    }
   },
   "outputs": [],
   "source": [
    "%pylab inline\n",
    "# get the JSAnimation import at https://github.com/jakevdp/JSAnimation\n",
    "from JSAnimation import examples\n",
    "examples.basic_animation()\n",
    "fig, ax = plt.subplots()\n",
    "ax.plot(random.rand(100))\n",
    "# write the figure to a temporary file, and encode the results to base64\n",
    "import tempfile\n",
    "with tempfile.NamedTemporaryFile(suffix='.png') as f:\n",
    "    fig.savefig(f.name)\n",
    "    data = open(f.name, 'rb').read().encode('base64')\n",
    "    \n",
    "# close the figure and display the data\n",
    "plt.close(fig)\n",
    "print(data[:460])\n",
    "from IPython.display import HTML\n",
    "HTML('<img src=\"data:image/png;base64,{0}\">'.format(data))\n",
    "from matplotlib import animation\n",
    "from JSAnimation import IPython_display\n",
    "\n",
    "fig = plt.figure()\n",
    "ax = plt.axes(xlim=(0, 10), ylim=(-2, 2))\n",
    "line, = ax.plot([], [], lw=2)\n",
    "\n",
    "def init():\n",
    "    line.set_data([], [])\n",
    "    return line,\n",
    "\n",
    "def animate(i):\n",
    "    x = np.linspace(0, 10, 1000)\n",
    "    y = np.cos(i * 0.02 * np.pi) * np.sin(x - i * 0.02 * np.pi)\n",
    "    line.set_data(x, y)\n",
    "    return line,\n",
    "\n",
    "animation.FuncAnimation(fig, animate, init_func=init,\n",
    "                        frames=100, interval=30)"
   ]
  },
  {
   "cell_type": "code",
   "execution_count": null,
   "metadata": {
    "collapsed": false,
    "run_control": {
     "read_only": false
    }
   },
   "outputs": [],
   "source": [
    "%pylab inline\n",
    "# JS Animation import is available at http://github.com/jakevdp/JSAnimation\n",
    "from JSAnimation.IPython_display import display_animation\n",
    "from matplotlib import animation\n",
    "\n",
    "# Set up the axes, making sure the axis ratio is equal\n",
    "fig = plt.figure(figsize=(6.5, 2.5))\n",
    "ax = fig.add_axes([0, 0, 1, 1], xlim=(-0.02, 13.02), ylim=(-0.02, 5.02),\n",
    "                  xticks=range(14), yticks=range(6), aspect='equal', frameon=False)\n",
    "ax.grid(True)\n",
    "\n",
    "# Define the shapes of the polygons\n",
    "P1 = np.array([[0, 0], [5, 0], [5, 2], [0, 0]])\n",
    "P2 = np.array([[0, 0], [8, 0], [8, 3], [0, 0]])\n",
    "P3 = np.array([[0, 0], [5, 0], [5, 1], [3, 1], [3, 2], [0, 2], [0, 0]])\n",
    "P4 = np.array([[0, 1], [3, 1], [3, 0], [5, 0], [5, 2], [0, 2], [0, 1]])\n",
    "\n",
    "# Draw the empty polygons for the animation\n",
    "kwds = dict(ec='k', alpha=0.5)\n",
    "patches = [ax.add_patch(plt.Polygon(0 * P1, fc='g', **kwds)),\n",
    "           ax.add_patch(plt.Polygon(0 * P2, fc='b', **kwds)),\n",
    "           ax.add_patch(plt.Polygon(0 * P3, fc='y', **kwds)),\n",
    "           ax.add_patch(plt.Polygon(0 * P4, fc='r', **kwds))]\n",
    "\n",
    "# This function moves the polygons as a function of the frame i\n",
    "Nframes = 30\n",
    "def animate(nframe):\n",
    "    f = nframe / (Nframes - 1.0)\n",
    "    patches[0].set_xy(P1 + (8 - 8 * f, 3 - 3 * f + 0.5 * np.sin(f * np.pi)))\n",
    "    patches[1].set_xy(P2 + (5 * f, 2 * f - 0.5 * np.sin(f * np.pi)))\n",
    "    patches[2].set_xy(P3 + (8 - 3 * f, 0))\n",
    "    patches[3].set_xy(P4 + (8, 1 - f))\n",
    "    return patches\n",
    "    \n",
    "anim = animation.FuncAnimation(fig, animate, frames=Nframes, interval=50)\n",
    "display_animation(anim, default_mode='once')"
   ]
  },
  {
   "cell_type": "code",
   "execution_count": null,
   "metadata": {
    "collapsed": false,
    "run_control": {
     "read_only": false
    }
   },
   "outputs": [],
   "source": [
    "def animate_as_gif(nframe):\n",
    "    if nframe >= Nframes and nframe < Nframes + 15:\n",
    "        nframe = Nframes - 1\n",
    "    elif nframe >= Nframes + 15 and nframe < 2 * Nframes + 15:\n",
    "        nframe = 2 * Nframes + 14 - nframe\n",
    "    elif nframe >= 2 * Nframes + 15:\n",
    "        nframe = 0\n",
    "    return animate(nframe)\n",
    "    \n",
    "anim = animation.FuncAnimation(fig, animate_as_gif,\n",
    "                               frames=2 * Nframes + 30, interval=50)\n",
    "anim.save('MagicTriangle.gif', writer='imagemagick')"
   ]
  }
 ],
 "metadata": {
  "kernelspec": {
   "display_name": "Python 3",
   "language": "python",
   "name": "python3"
  },
  "language_info": {
   "codemirror_mode": {
    "name": "ipython",
    "version": 3
   },
   "file_extension": ".py",
   "mimetype": "text/x-python",
   "name": "python",
   "nbconvert_exporter": "python",
   "pygments_lexer": "ipython3",
   "version": "3.4.3"
  }
 },
 "nbformat": 4,
 "nbformat_minor": 0
}
