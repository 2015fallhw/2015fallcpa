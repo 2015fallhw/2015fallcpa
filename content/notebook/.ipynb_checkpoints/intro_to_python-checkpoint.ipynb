{
 "cells": [
  {
   "cell_type": "markdown",
   "metadata": {},
   "source": [
    "https://github.com/ipython/ipython/wiki/A-gallery-of-interesting-IPython-Notebooks"
   ]
  },
  {
   "cell_type": "code",
   "execution_count": null,
   "metadata": {
    "collapsed": false,
    "run_control": {
     "read_only": true
    },
    "scrolled": true
   },
   "outputs": [],
   "source": [
    "for 索引 in range(6):\n",
    "    print(索引)"
   ]
  },
  {
   "cell_type": "code",
   "execution_count": null,
   "metadata": {
    "collapsed": false,
    "run_control": {
     "read_only": true
    }
   },
   "outputs": [],
   "source": [
    "from IPython.lib import passwd\n",
    "passw"
   ]
  },
  {
   "cell_type": "code",
   "execution_count": null,
   "metadata": {
    "collapsed": false,
    "run_control": {
     "read_only": true
    }
   },
   "outputs": [],
   "source": [
    "字串資料 = \"這是一個字串資料\"\n",
    "print(\"字串資料的長度為:\", len(字串資料))\n",
    "print(\"-\"*30)\n",
    "位址 = 0\n",
    "for 索引 in 字串資料:\n",
    "    print(索引)\n",
    "    print(\"--- 以上為列印索引 ---\")\n",
    "    print(字串資料[位址])\n",
    "    print(\"--- 以上為列印字串資料數列 ---\")\n",
    "    位址 = 位址 + 1"
   ]
  },
  {
   "cell_type": "code",
   "execution_count": null,
   "metadata": {
    "collapsed": false,
    "run_control": {
     "read_only": true
    }
   },
   "outputs": [],
   "source": [
    "# 本程式在 demo\n",
    "# print()\n",
    "# def\n",
    "# range()\n",
    "# list()\n",
    "# list 內容變化\n",
    "# reversed()\n",
    "# zip()\n",
    "# if elif else\n",
    "\n",
    "def 列印星號(輸入變數):\n",
    "    數列1 = list(range(輸入變數))\n",
    "    數列2 = [x+輸入變數-1 for x in 數列1]\n",
    "    反數列2 = reversed(數列1)\n",
    "    集合 = zip(數列2, 反數列2)\n",
    "    for 索引 in 集合:\n",
    "        for 數 in range(輸入變數*2):\n",
    "            if 數 == 索引[0] or 數 == 索引[1]:\n",
    "                print(\"*\", end=\"\")\n",
    "            else:\n",
    "                print(\" \", end=\"\")\n",
    "        print()\n",
    "\n",
    "def 列印星號2(輸入變數):\n",
    "    數列1 = list(range(輸入變數))\n",
    "    數列2 = [x+輸入變數 for x in 數列1]\n",
    "    數列3 = [x+1 for x in 數列1]\n",
    "    反數列2 = reversed(數列2)\n",
    "    集合 = zip(數列3, 反數列2)\n",
    "    for 索引 in 集合:\n",
    "        for 數 in range(輸入變數*2):\n",
    "            if 數 == 索引[0] or 數 == 索引[1]:\n",
    "                print(\"*\", end=\"\")\n",
    "            else:\n",
    "                print(\" \", end=\"\")\n",
    "        print()\n",
    "\n",
    "def 列印星號3(輸入變數):\n",
    "    數列1 = list(range(輸入變數))\n",
    "    數列2 = [x+輸入變數-1 for x in 數列1]\n",
    "    反數列2 = reversed(數列1)\n",
    "    集合 = zip(數列2, 反數列2)\n",
    "    for 索引 in 集合:\n",
    "        for 數 in range(輸入變數*2-1):\n",
    "            if 數 <= 索引[0] and 數 >= 索引[1]:\n",
    "                print(\"*\", end=\"\")\n",
    "            else:\n",
    "                print(\" \", end=\"\")\n",
    "        print()\n",
    "\n",
    "def 列印星號4(輸入變數):\n",
    "    數列1 = list(range(輸入變數))\n",
    "    數列2 = [x+輸入變數 for x in 數列1]\n",
    "    數列3 = [x+1 for x in 數列1]\n",
    "    反數列2 = reversed(數列2)\n",
    "    集合 = zip(數列3, 反數列2)\n",
    "    for 索引 in 集合:\n",
    "        for 數 in range(輸入變數*2+1):\n",
    "            if 數 >= 索引[0] and 數 <= 索引[1]:\n",
    "                print(\"2\", end=\"\")\n",
    "            else:\n",
    "                print(\"1\", end=\"\")\n",
    "        print()\n",
    "\n",
    "def 列印菱形(輸入變數):\n",
    "    列印星號3(輸入變數)\n",
    "    列印星號4(輸入變數-1)\n",
    "\n",
    "列印菱形(11)\n",
    "\n",
    "# 請將本程式改為菱形中間也要列印星號"
   ]
  },
  {
   "cell_type": "code",
   "execution_count": null,
   "metadata": {
    "collapsed": false,
    "run_control": {
     "read_only": false
    }
   },
   "outputs": [],
   "source": [
    "def 增量列印(行數):\n",
    "    # 基本的 print() 函式列印\n",
    "    # 只要將 4 改為 11, 就可以重複列印 10 行\n",
    "    #for 列印行數 in range(1, 4):\n",
    "    for 列印行數 in range(1, 行數+1):\n",
    "        print(\"Welcome to Python3 \", end=\"\")\n",
    "        for 列印個數 in range(列印行數):\n",
    "            print(\"*\", end=\"\")\n",
    "        # 完成多星號列印後, 必須額外要求跳行, 否則各行會列在同一行\n",
    "        print()\n",
    "\n",
    "增量列印(10)"
   ]
  },
  {
   "cell_type": "code",
   "execution_count": null,
   "metadata": {
    "collapsed": false,
    "run_control": {
     "read_only": false
    }
   },
   "outputs": [],
   "source": [
    "def 菱形(n):\n",
    "    數列1 = [x+n for x in range(0, n)]\n",
    "    數列2 = list(range(n, 0, -1))\n",
    "    數列3 = zip(數列1, 數列2)\n",
    "    for i in 數列3:\n",
    "        for j in range(2*n):\n",
    "            if j == i[0] or j == i[1]:\n",
    "                print(\"*\", end=\"\")\n",
    "            else:https://120.113.76.47:8888/notebooks/intro_to_python.ipynb#\n",
    "                print(\" \", end=\"\")\n",
    "        print()\n",
    "\n",
    "    數列4 = [x for x in range(2, n+1)]\n",
    "    數列5 = [x+n-2 for x in range(n, 0, -1)]\n",
    "    數列6 = zip(數列4, 數列5)\n",
    "    for i in 數列6:\n",
    "        for j in range(2*n):\n",
    "            if j == i[0] or j == i[1]:\n",
    "                print(\"*\", end=\"\")\n",
    "            else:\n",
    "                print(\" \", end=\"\")\n",
    "        print()\n",
    "\n",
    "n = 20\n",
    "菱形(n)"
   ]
  },
  {
   "cell_type": "code",
   "execution_count": null,
   "metadata": {
    "collapsed": false,
    "run_control": {
     "read_only": false
    }
   },
   "outputs": [],
   "source": [
    "from mpl_toolkits.mplot3d import Axes3D\n",
    "from matplotlib import cm\n",
    "from matplotlib.colors import LogNorm\n",
    "import matplotlib.pyplot as plt\n",
    "\n",
    "try:\n",
    "    import numpy as np\n",
    "except:\n",
    "    exit()\n",
    "\n",
    "from deap import benchmarks\n",
    "\n",
    "def bohachevsky_arg0(sol):\n",
    "    return benchmarks.bohachevsky(sol)[0]\n",
    "\n",
    "fig = plt.figure()\n",
    "ax = Axes3D(fig, azim = -29, elev = 50)\n",
    "# ax = Axes3D(fig)\n",
    "X = np.arange(-15, 15, 0.5)\n",
    "Y = np.arange(-15, 15, 0.5)\n",
    "X, Y = np.meshgrid(X, Y)\n",
    "Z = np.zeros(X.shape)\n",
    "\n",
    "for i in range(X.shape[0]):\n",
    "    for j in range(X.shape[1]):\n",
    "        Z[i,j] = bohachevsky_arg0((X[i,j],Y[i,j]))\n",
    "\n",
    "ax.plot_surface(X, Y, Z, rstride=1, cstride=1,  norm=LogNorm(), cmap=cm.jet, linewidth=0.2)\n",
    " \n",
    "plt.xlabel(\"x\")\n",
    "plt.ylabel(\"y\")\n",
    "\n",
    "plt.show()"
   ]
  },
  {
   "cell_type": "code",
   "execution_count": null,
   "metadata": {
    "collapsed": true,
    "run_control": {
     "read_only": false
    }
   },
   "outputs": [],
   "source": [
    "\n",
    "from mpl_toolkits.mplot3d import Axes3D\n",
    "from matplotlib import cm\n",
    "from matplotlib.colors import LogNorm\n",
    "import matplotlib.pyplot as plt\n",
    "\n",
    "try:\n",
    "    import numpy as np\n",
    "except:\n",
    "    exit()\n",
    "\n",
    "from deap import benchmarks\n",
    "\n",
    "def untuple(sol):\n",
    "    return benchmarks.himmelblau(sol)[0]\n",
    "\n",
    "fig = plt.figure()\n",
    "ax = Axes3D(fig, azim = -29, elev = 49)\n",
    "X = np.arange(-6, 6, 0.1)\n",
    "Y = np.arange(-6, 6, 0.1)\n",
    "X, Y = np.meshgrid(X, Y)\n",
    "Z = np.array(list(map(untuple, zip(X,Y))))\n",
    "\n",
    "ax.plot_surface(X, Y, Z, rstride=1, cstride=1, norm=LogNorm(), cmap=cm.jet, linewidth=0.2)\n",
    " \n",
    "plt.xlabel(\"x\")\n",
    "plt.ylabel(\"y\")\n",
    "\n",
    "plt.show()"
   ]
  }
 ],
 "metadata": {
  "kernelspec": {
   "display_name": "Python 3",
   "language": "python",
   "name": "python3"
  },
  "language_info": {
   "codemirror_mode": {
    "name": "ipython",
    "version": 3
   },
   "file_extension": ".py",
   "mimetype": "text/x-python",
   "name": "python",
   "nbconvert_exporter": "python",
   "pygments_lexer": "ipython3",
   "version": "3.4.3"
  }
 },
 "nbformat": 4,
 "nbformat_minor": 0
}
