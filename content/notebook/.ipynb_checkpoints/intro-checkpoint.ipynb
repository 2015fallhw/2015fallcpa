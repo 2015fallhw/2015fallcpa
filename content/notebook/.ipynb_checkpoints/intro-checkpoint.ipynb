{
 "cells": [
  {
   "cell_type": "markdown",
   "metadata": {},
   "source": [
    "http://nbviewer.ipython.org/github/jrjohansson/scientific-python-lectures/blob/master/Lecture-1-Introduction-to-Python-Programming.ipynb\n",
    "\n",
    "函式 function\n",
    "\n",
    "何謂函式(function)？\n",
    "help() 與 print() 都是 Python 的內建函式\n",
    "\n",
    "http://faculty.msmary.edu/heinold/Introduction_to_Programming_Using_Python_Heinold.pdf\n",
    "\n",
    "http://www.eecs.wsu.edu/~schneidj/PyBook/swan.pdf"
   ]
  },
  {
   "cell_type": "code",
   "execution_count": null,
   "metadata": {
    "collapsed": false,
    "run_control": {
     "read_only": true
    },
    "scrolled": true
   },
   "outputs": [],
   "source": [
    "help(print)"
   ]
  },
  {
   "cell_type": "code",
   "execution_count": null,
   "metadata": {
    "collapsed": false,
    "run_control": {
     "read_only": true
    }
   },
   "outputs": [],
   "source": [
    "help(help)"
   ]
  },
  {
   "cell_type": "code",
   "execution_count": null,
   "metadata": {
    "collapsed": false,
    "run_control": {
     "read_only": true
    }
   },
   "outputs": [],
   "source": [
    "# 列印 Python 系統的版次與關鍵字\n",
    "import sys\n",
    "import keyword\n",
    "\n",
    "print(\"Python version: \", sys.version_info)\n",
    "print(\"Python keywords: \", keyword.kwlist)"
   ]
  },
  {
   "cell_type": "code",
   "execution_count": null,
   "metadata": {
    "collapsed": false,
    "run_control": {
     "read_only": true
    }
   },
   "outputs": [],
   "source": [
    "# 字串, 整數, 浮點數\n",
    "help(str)\n",
    "help(int)\n",
    "help(float)"
   ]
  },
  {
   "cell_type": "code",
   "execution_count": null,
   "metadata": {
    "collapsed": false,
    "run_control": {
     "read_only": false
    }
   },
   "outputs": [],
   "source": [
    "import random\n",
    "dir(random)"
   ]
  },
  {
   "cell_type": "code",
   "execution_count": null,
   "metadata": {
    "collapsed": false,
    "run_control": {
     "read_only": false
    }
   },
   "outputs": [],
   "source": [
    "help(dir)"
   ]
  },
  {
   "cell_type": "code",
   "execution_count": null,
   "metadata": {
    "collapsed": false,
    "run_control": {
     "read_only": false
    }
   },
   "outputs": [],
   "source": [
    "for i in 2, 4, 6, 8:\n",
    "    print(i)"
   ]
  },
  {
   "cell_type": "code",
   "execution_count": null,
   "metadata": {
    "collapsed": false,
    "run_control": {
     "read_only": false
    },
    "scrolled": false
   },
   "outputs": [],
   "source": [
    "# 讓圖直接 show 在 output\n",
    "%matplotlib inline\n",
    "import matplotlib.pyplot as plt\n",
    "vals = [3,2,5,3,1]\n",
    "plt.plot(vals)\n",
    "# 在 server 中, 以視窗顯示 plt\n",
    "#plt.show()"
   ]
  },
  {
   "cell_type": "code",
   "execution_count": null,
   "metadata": {
    "collapsed": false,
    "run_control": {
     "read_only": false
    }
   },
   "outputs": [],
   "source": [
    "temp = eval(input('Enter a temperature in Celsius: '))\n",
    "print('In Fahrenheit, that is', 9/5*temp+32)"
   ]
  },
  {
   "cell_type": "code",
   "execution_count": null,
   "metadata": {
    "collapsed": false,
    "run_control": {
     "read_only": false
    }
   },
   "outputs": [],
   "source": [
    "%matplotlib inline\n",
    "from pylab import plot,ylim,xlabel,ylabel,show\n",
    "from numpy import linspace,sin,cos\n",
    "x = linspace(0,10,100)\n",
    "y1 = sin(x)\n",
    "y2 = cos(x)\n",
    "plot(x,y1,\"k-\")\n",
    "plot(x,y2,\"k--\")\n",
    "ylim(-1.1,1.1)\n",
    "xlabel(\"x axis\")\n",
    "ylabel(\"y = sin x or y = cos x\")"
   ]
  },
  {
   "cell_type": "code",
   "execution_count": null,
   "metadata": {
    "collapsed": false,
    "run_control": {
     "read_only": false
    }
   },
   "outputs": [],
   "source": [
    "for c in [0b1001000, 0b1100101, 0b1101100, 0b1101100,\n",
    "    0b1101111, 0b0100000, 0b1010111, 0b1101111, 0b1110010,\n",
    "    0b1101100, 0b1100100, 0b0100001, 0b0001010]:\n",
    "    print(chr(c), end=\"\")"
   ]
  },
  {
   "cell_type": "code",
   "execution_count": null,
   "metadata": {
    "collapsed": true,
    "run_control": {
     "read_only": false
    }
   },
   "outputs": [],
   "source": []
  }
 ],
 "metadata": {
  "kernelspec": {
   "display_name": "Python 3",
   "language": "python",
   "name": "python3"
  },
  "language_info": {
   "codemirror_mode": {
    "name": "ipython",
    "version": 3
   },
   "file_extension": ".py",
   "mimetype": "text/x-python",
   "name": "python",
   "nbconvert_exporter": "python",
   "pygments_lexer": "ipython3",
   "version": "3.4.3"
  }
 },
 "nbformat": 4,
 "nbformat_minor": 0
}
