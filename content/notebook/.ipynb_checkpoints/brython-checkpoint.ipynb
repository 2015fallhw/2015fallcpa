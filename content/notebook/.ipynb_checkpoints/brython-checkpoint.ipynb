{
 "cells": [
  {
   "cell_type": "markdown",
   "metadata": {
    "run_control": {
     "read_only": false
    }
   },
   "source": [
    "https://github.com/kikocorreoso/brythonmagic\n",
    "\n",
    "http://nbviewer.ipython.org/github/kikocorreoso/brythonmagic/blob/master/notebooks/Brython%20usage%20in%20the%20IPython%20notebook.ipynb"
   ]
  },
  {
   "cell_type": "code",
   "execution_count": null,
   "metadata": {
    "collapsed": false,
    "run_control": {
     "read_only": false
    }
   },
   "outputs": [],
   "source": [
    "import IPython\n",
    "IPython.version_info"
   ]
  },
  {
   "cell_type": "code",
   "execution_count": null,
   "metadata": {
    "collapsed": false,
    "run_control": {
     "read_only": false
    }
   },
   "outputs": [],
   "source": [
    "%install_ext https://raw.github.com/kikocorreoso/brythonmagic/master/brythonmagic.py"
   ]
  },
  {
   "cell_type": "code",
   "execution_count": null,
   "metadata": {
    "collapsed": false,
    "run_control": {
     "read_only": false
    }
   },
   "outputs": [],
   "source": [
    "%load_ext brythonmagic"
   ]
  },
  {
   "cell_type": "code",
   "execution_count": null,
   "metadata": {
    "collapsed": false,
    "run_control": {
     "read_only": false
    }
   },
   "outputs": [],
   "source": [
    "%%HTML\n",
    "<script type=\"text/javascript\" src=\"https://brython.info/src/brython_dist.js\"></script>"
   ]
  },
  {
   "cell_type": "code",
   "execution_count": null,
   "metadata": {
    "collapsed": false,
    "run_control": {
     "read_only": false
    }
   },
   "outputs": [],
   "source": [
    "%%brython -c my_container\n",
    "# 假如要列出所產生的 html 則使用 -p\n",
    "from browser import doc, html\n",
    "\n",
    "# This will be printed in the js console of your browser\n",
    "print('Hello world!')\n",
    "\n",
    "# This will be printed in the container div on the output below\n",
    "doc[\"my_container\"] <= html.P(\"文字位於 div 標註內\", \n",
    "                              style = {\"backgroundColor\": \"cyan\"})"
   ]
  },
  {
   "cell_type": "code",
   "execution_count": null,
   "metadata": {
    "collapsed": false,
    "run_control": {
     "read_only": false
    }
   },
   "outputs": [],
   "source": [
    "%%brython\n",
    "from browser import alert\n",
    "\n",
    "alert('Hello world!, Welcome to the brythonmagic!')"
   ]
  },
  {
   "cell_type": "code",
   "execution_count": null,
   "metadata": {
    "collapsed": false,
    "run_control": {
     "read_only": false
    }
   },
   "outputs": [],
   "source": [
    "%%brython -c simple_example\n",
    "from browser import doc, html\n",
    "\n",
    "for i in range(10):\n",
    "    doc[\"simple_example\"] <= html.P(i)"
   ]
  },
  {
   "cell_type": "code",
   "execution_count": null,
   "metadata": {
    "collapsed": false,
    "run_control": {
     "read_only": false
    }
   },
   "outputs": [],
   "source": [
    "%%brython -c table\n",
    "from browser import doc, html\n",
    "\n",
    "table = html.TABLE()\n",
    "\n",
    "for i in range(10):\n",
    "    color = ['cyan','#dddddd'] * 5\n",
    "    table <= html.TR(\n",
    "                     html.TD(str(i+1) + ' x 2 =', style = {'backgroundColor':color[i]}) + \n",
    "                     html.TD((i+1)*2, style = {'backgroundColor':color[i]}))\n",
    "doc['table'] <= table"
   ]
  },
  {
   "cell_type": "code",
   "execution_count": null,
   "metadata": {
    "collapsed": false,
    "run_control": {
     "read_only": false
    }
   },
   "outputs": [],
   "source": [
    "%%brython -c canvas_example\n",
    "from browser.timer import request_animation_frame as raf\n",
    "from browser.timer import cancel_animation_frame as caf\n",
    "from browser import doc, html\n",
    "from time import time\n",
    "import math\n",
    "\n",
    "# First we create a table to insert the elements\n",
    "table = html.TABLE(cellpadding = 10)\n",
    "btn_anim = html.BUTTON('Animate', Id=\"btn-anim\", type=\"button\")\n",
    "btn_stop = html.BUTTON('Stop', Id=\"btn-stop\", type=\"button\")\n",
    "cnvs = html.CANVAS(Id=\"raf-canvas\", width=256, height=256)\n",
    "\n",
    "table <= html.TR(html.TD(btn_anim + btn_stop) +\n",
    "                 html.TD(cnvs))\n",
    "\n",
    "doc['canvas_example'] <= table\n",
    "# Now we access the canvas context\n",
    "ctx = doc['raf-canvas'].getContext( '2d' ) \n",
    "\n",
    "# And we create several functions in charge to animate and stop the draw animation\n",
    "toggle = True\n",
    "\n",
    "def draw():\n",
    "    t = time() * 3\n",
    "    x = math.sin(t) * 96 + 128\n",
    "    y = math.cos(t * 0.9) * 96 + 128\n",
    "    global toggle\n",
    "    if toggle:\n",
    "        toggle = False\n",
    "    else:\n",
    "        toggle = True\n",
    "    ctx.fillStyle = 'rgb(200,200,20)' if toggle else 'rgb(20,20,200)'\n",
    "    ctx.beginPath()\n",
    "    ctx.arc( x, y, 6, 0, math.pi * 2, True)\n",
    "    ctx.closePath()\n",
    "    ctx.fill()\n",
    "\n",
    "def animate(i):\n",
    "    global id\n",
    "    id = raf(animate)\n",
    "    draw()\n",
    "\n",
    "def stop(i):\n",
    "    global id\n",
    "    print(id)\n",
    "    caf(id)\n",
    "\n",
    "doc[\"btn-anim\"].bind(\"click\", animate)\n",
    "doc[\"btn-stop\"].bind(\"click\", stop)"
   ]
  },
  {
   "cell_type": "code",
   "execution_count": null,
   "metadata": {
    "collapsed": false,
    "run_control": {
     "read_only": false
    }
   },
   "outputs": [],
   "source": [
    "%%HTML\n",
    "<script type=\"text/javascript\" src=\"https://cdnjs.cloudflare.com/ajax/libs/d3/3.5.6/d3.js\"></script>"
   ]
  },
  {
   "cell_type": "code",
   "execution_count": null,
   "metadata": {
    "collapsed": false,
    "run_control": {
     "read_only": false
    }
   },
   "outputs": [],
   "source": [
    "%%brython -c simple_d3\n",
    "from browser import window, document, html\n",
    "from javascript import JSObject\n",
    "\n",
    "d3 = window.d3\n",
    "\n",
    "container = JSObject(d3.select(\"#simple_d3\"))\n",
    "svg = container.append(\"svg\").attr(\"width\", 100).attr(\"height\", 100)\n",
    "circle1 = svg.append(\"circle\").style(\"stroke\", \"gray\").style(\"fill\", \"gray\").attr(\"r\", 40)\n",
    "circle1.attr(\"cx\", 50).attr(\"cy\", 50).attr(\"id\", \"mycircle\")\n",
    "\n",
    "circle2 = svg.append(\"circle\").style(\"stroke\", \"gray\").style(\"fill\", \"white\").attr(\"r\", 20)\n",
    "circle2.attr(\"cx\", 50).attr(\"cy\", 50)\n",
    "\n",
    "def over(ev):\n",
    "    document[\"mycircle\"].style.fill = \"blue\"\n",
    "\n",
    "def out(ev):\n",
    "    document[\"mycircle\"].style.fill = \"gray\"\n",
    "\n",
    "document[\"mycircle\"].bind(\"mouseover\", over)\n",
    "document[\"mycircle\"].bind(\"mouseout\", out)"
   ]
  },
  {
   "cell_type": "code",
   "execution_count": null,
   "metadata": {
    "collapsed": false,
    "run_control": {
     "read_only": false
    }
   },
   "outputs": [],
   "source": [
    "%%brython -c manipulating\n",
    "from browser import document, html\n",
    "\n",
    "def hide(ev):\n",
    "    divs = document.get(selector = 'div.input')\n",
    "    for div in divs:\n",
    "        div.style.display = \"none\"\n",
    "\n",
    "def show(ev):\n",
    "    divs = document.get(selector = 'div.input')\n",
    "    for div in divs:\n",
    "        div.style.display = \"inherit\"\n",
    "\n",
    "document[\"manipulating\"] <= html.BUTTON('Hide code cells', Id=\"btn-hide\")\n",
    "document[\"btn-hide\"].bind(\"click\", hide)\n",
    "\n",
    "document[\"manipulating\"] <= html.BUTTON('Show code cells', Id=\"btn-show\")\n",
    "document[\"btn-show\"].bind(\"click\", show)"
   ]
  },
  {
   "cell_type": "code",
   "execution_count": null,
   "metadata": {
    "collapsed": true
   },
   "outputs": [],
   "source": [
    "from random import randint\n",
    "\n",
    "n = 100\n",
    "x = [randint(0,800) for i in range(n)]\n",
    "y = [randint(0,600) for i in range(n)]\n",
    "r = [randint(25,50) for i in range(n)]\n",
    "red = [randint(0,255) for i in range(n)]\n",
    "green = [randint(0,255) for i in range(n)]\n",
    "blue = [randint(0,255) for i in range(n)]"
   ]
  },
  {
   "cell_type": "code",
   "execution_count": null,
   "metadata": {
    "collapsed": false
   },
   "outputs": [],
   "source": [
    "%%brython -c other_d3 -i x y r red green blue\n",
    "from browser import window, document, html\n",
    "\n",
    "d3 = window.d3\n",
    "\n",
    "WIDTH = 800\n",
    "HEIGHT = 600\n",
    "\n",
    "container = d3.select(\"#other_d3\")\n",
    "svg = container.append(\"svg\").attr(\"width\", WIDTH).attr(\"height\", HEIGHT)\n",
    "\n",
    "class AddShapes:\n",
    "    def __init__(self, x, y, r, red, green, blue, shape = \"circle\", interactive = True):\n",
    "        self.shape = shape\n",
    "        self.interactive = interactive\n",
    "        self._color = \"gray\"\n",
    "        self.add(x, y, r, red, green, blue)\n",
    "\n",
    "    def over(self, ev):\n",
    "        self._color = ev.target.style.fill\n",
    "        document[ev.target.id].style.fill = \"white\"\n",
    "        \n",
    "    def out(self, ev):\n",
    "        document[ev.target.id].style.fill = self._color\n",
    "    \n",
    "    def add(self, x, y, r, red, green, blue):\n",
    "        for i in range(len(x)):\n",
    "            self.idx = self.shape + '_' + str(i) \n",
    "            self._color = \"rgb(%s,%s,%s)\" % (red[i], green[i], blue[i])\n",
    "            shaped = svg.append(self.shape).style(\"stroke\", \"gray\").style(\"fill\", self._color).attr(\"r\", r[i])\n",
    "            shaped.attr(\"cx\", x[i]).attr(\"cy\", y[i]).attr(\"id\", self.idx)\n",
    "            if self.interactive:\n",
    "                document[self.idx].bind(\"mouseover\", self.over)\n",
    "                document[self.idx].bind(\"mouseout\", self.out)\n",
    "\n",
    "plot = AddShapes(x, y, r, red, green, blue, interactive = True)"
   ]
  },
  {
   "cell_type": "code",
   "execution_count": null,
   "metadata": {
    "collapsed": false
   },
   "outputs": [],
   "source": [
    "%%HTML\n",
    "<script type=\"text/javascript\" src=\"https://cdnjs.cloudflare.com/ajax/libs/openlayers/2.13.1/OpenLayers.js\"></script>"
   ]
  },
  {
   "cell_type": "code",
   "execution_count": null,
   "metadata": {
    "collapsed": false
   },
   "outputs": [],
   "source": [
    "%%brython -c ol_map\n",
    "# we need to get map png in SSL\n",
    "# take a look at http://gis.stackexchange.com/questions/83953/openlayer-maps-issue-with-ssl\n",
    "from browser import document, window\n",
    "from javascript import JSConstructor, JSObject\n",
    "\n",
    "## Div layout\n",
    "document['ol_map'].style.width = \"800px\"\n",
    "document['ol_map'].style.height = \"400px\"\n",
    "document['ol_map'].style.border = \"1px solid black\"\n",
    "\n",
    "OpenLayers = window.OpenLayers\n",
    "\n",
    "## Map\n",
    "_map = JSConstructor(OpenLayers.Map)('ol_map')\n",
    "\n",
    "## Addition of a OpenStreetMap layer\n",
    "_layer = JSConstructor(OpenLayers.Layer.OSM)( 'Simple OSM map')\n",
    "_map.addLayer(_layer)\n",
    "\n",
    "## Map centered on Lon, Lat = (-3.671416, 40.435897) and a zoom = 14\n",
    "## with a projection = \"EPSG:4326\" (Lat-Lon WGS84)\n",
    "_proj = JSConstructor(OpenLayers.Projection)(\"EPSG:4326\")\n",
    "_center = JSConstructor(OpenLayers.LonLat)(-3.671416, 40.435897)\n",
    "_center.transform(_proj, _map.getProjectionObject())\n",
    "_map.setCenter(_center, 10)\n",
    "\n",
    "## Addition of some points around the defined location\n",
    "lons = [-3.670, -3.671, -3.672, -3.672, -3.672,\n",
    "        -3.671, -3.670, -3.670]\n",
    "lats = [40.435, 40.435, 40.435, 40.436, 40.437,\n",
    "        40.437, 40.437, 40.436]\n",
    "\n",
    "site_points = []\n",
    "site_style = {}\n",
    "\n",
    "points_layer = JSConstructor(OpenLayers.Layer.Vector)(\"Point Layer\")\n",
    "_map.addLayer(points_layer)\n",
    "\n",
    "for lon, lat in zip(lons, lats):\n",
    "    point = JSConstructor(OpenLayers.Geometry.Point)(lon, lat)\n",
    "    point.transform(_proj, _map.getProjectionObject())\n",
    "    _feat = JSConstructor(OpenLayers.Feature.Vector)(point)\n",
    "    points_layer.addFeatures(_feat)"
   ]
  },
  {
   "cell_type": "code",
   "execution_count": null,
   "metadata": {
    "collapsed": false
   },
   "outputs": [],
   "source": [
    "%%brython -s styling\n",
    "from browser import doc, html\n",
    "\n",
    "# Changing the background color\n",
    "body = doc[html.BODY][0]\n",
    "body.style = {\"backgroundColor\": \"#99EEFF\"}\n",
    "    \n",
    "# Changing the color of the imput prompt\n",
    "inps = body.get(selector = \".input_prompt\")\n",
    "for inp in inps:\n",
    "    inp.style = {\"color\": \"blue\"}\n",
    "        \n",
    "# Changin the color of the output cells\n",
    "outs = body.get(selector = \".output_wrapper\")\n",
    "for out in outs:\n",
    "    out.style = {\"backgroundColor\": \"#E0E0E0\"}\n",
    "    \n",
    "# Changing the font of the text cells\n",
    "text_cells = body.get(selector = \".text_cell\")\n",
    "for cell in text_cells:\n",
    "    cell.style = {\"fontFamily\": \"\"\"\"Courier New\", Courier, monospace\"\"\",\n",
    "                      \"fontSize\": \"20px\"}\n",
    "        \n",
    "# Changing the color of the code cells.\n",
    "code_cells = body.get(selector = \".CodeMirror\")\n",
    "for cell in code_cells:\n",
    "    cell.style = {\"backgroundColor\": \"#D0D0D0\"}"
   ]
  },
  {
   "cell_type": "code",
   "execution_count": null,
   "metadata": {
    "collapsed": true
   },
   "outputs": [],
   "source": []
  }
 ],
 "metadata": {
  "kernelspec": {
   "display_name": "Python 3",
   "language": "python",
   "name": "python3"
  },
  "language_info": {
   "codemirror_mode": {
    "name": "ipython",
    "version": 3
   },
   "file_extension": ".py",
   "mimetype": "text/x-python",
   "name": "python",
   "nbconvert_exporter": "python",
   "pygments_lexer": "ipython3",
   "version": "3.4.3"
  }
 },
 "nbformat": 4,
 "nbformat_minor": 0
}
