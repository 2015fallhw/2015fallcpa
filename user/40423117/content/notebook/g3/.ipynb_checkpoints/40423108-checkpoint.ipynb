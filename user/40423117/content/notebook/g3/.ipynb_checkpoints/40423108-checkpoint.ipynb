{
 "cells": [
  {
   "cell_type": "markdown",
   "metadata": {
    "collapsed": true,
    "run_control": {
     "read_only": false
    }
   },
   "source": [
    "### 40423108 ###\n",
    "\n",
    "<!-- 導入 brython.js -->\n",
    "\n",
    "<script type=\"text/javascript\" src=\"http://brython.info/src/brython_dist.js\"></script>\n",
    "\n",
    "<!-- 啟動 brython() -->\n",
    "\n",
    "<script>\n",
    "window.onload=function(){\n",
    "brython(1);\n",
    "}\n",
    "</script>\n",
    "\n",
    "<!-- 以下利用 Brython 程式執行繪圖 -->\n",
    "\n",
    "<canvas id=\"plotarea2\" width=\"500\" height=\"500\"></canvas>\n",
    "\n",
    "<script type=\"text/python3\">\n",
    "# 導入 doc\n",
    "from browser import document as doc\n",
    "from browser import console\n",
    "import math\n",
    "\n",
    "# 準備繪圖畫布\n",
    "canvas = doc[\"plotarea2\"]\n",
    "ctx = canvas.getContext(\"2d\")\n",
    "\n",
    "# 開始畫直線\n",
    "ctx.beginPath()\n",
    "ctx.lineWidth = 5\n",
    "ctx.moveTo(250,100)\n",
    "ctx.lineTo(150,200)\n",
    "ctx.lineTo(200,200)\n",
    "ctx.lineTo(100,300)\n",
    "ctx.lineTo(200,300)\n",
    "ctx.lineTo(200,400)\n",
    "ctx.lineTo(300,400)\n",
    "ctx.lineTo(300,300)\n",
    "ctx.lineTo(400,300)\n",
    "ctx.lineTo(300,200)\n",
    "ctx.lineTo(350,200)\n",
    "ctx.lineTo(250,100)\n",
    "ctx.strokeStyle = \"#006000\"\n",
    "ctx.stroke()\n",
    "</script>"
   ]
  }
 ],
 "metadata": {
  "kernelspec": {
   "display_name": "Python 3",
   "language": "python",
   "name": "python3"
  },
  "language_info": {
   "codemirror_mode": {
    "name": "ipython",
    "version": 3
   },
   "file_extension": ".py",
   "mimetype": "text/x-python",
   "name": "python",
   "nbconvert_exporter": "python",
   "pygments_lexer": "ipython3",
   "version": "3.4.3"
  }
 },
 "nbformat": 4,
 "nbformat_minor": 0
}
