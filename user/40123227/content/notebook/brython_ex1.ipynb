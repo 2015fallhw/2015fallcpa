{
 "cells": [
  {
   "cell_type": "code",
   "execution_count": 24,
   "metadata": {
    "collapsed": false
   },
   "outputs": [
    {
     "data": {
      "text/plain": [
       "(4, 0, 0, '')"
      ]
     },
     "execution_count": 24,
     "metadata": {},
     "output_type": "execute_result"
    }
   ],
   "source": [
    "import IPython\n",
    "IPython.version_info"
   ]
  },
  {
   "cell_type": "code",
   "execution_count": 25,
   "metadata": {
    "collapsed": false
   },
   "outputs": [
    {
     "name": "stdout",
     "output_type": "stream",
     "text": [
      "Installed brythonmagic.py. To use it, type:\n",
      "  %load_ext brythonmagic\n"
     ]
    }
   ],
   "source": [
    "%install_ext https://raw.github.com/kikocorreoso/brythonmagic/master/brythonmagic.py"
   ]
  },
  {
   "cell_type": "code",
   "execution_count": 26,
   "metadata": {
    "collapsed": false
   },
   "outputs": [
    {
     "name": "stdout",
     "output_type": "stream",
     "text": [
      "The brythonmagic extension is already loaded. To reload it, use:\n",
      "  %reload_ext brythonmagic\n"
     ]
    }
   ],
   "source": [
    "%load_ext brythonmagic"
   ]
  },
  {
   "cell_type": "code",
   "execution_count": 27,
   "metadata": {
    "collapsed": false
   },
   "outputs": [
    {
     "data": {
      "text/html": [
       "<script type=\"text/javascript\" src=\"http://brython.info/src/brython_dist.js\"></script>"
      ],
      "text/plain": [
       "<IPython.core.display.HTML object>"
      ]
     },
     "metadata": {},
     "output_type": "display_data"
    }
   ],
   "source": [
    "%%HTML\n",
    "<script type=\"text/javascript\" src=\"http://brython.info/src/brython_dist.js\"></script>"
   ]
  },
  {
   "cell_type": "code",
   "execution_count": 29,
   "metadata": {
    "collapsed": false
   },
   "outputs": [
    {
     "data": {
      "text/html": [
       "  <script id=\"200015\" type=\"text/python\">\n",
       "# 假如要列出所產生的 html 則使用 -p\n",
       "from browser import doc, html\n",
       "\n",
       "# This will be printed in the js console of your browser\n",
       "print('Hello world!')\n",
       "\n",
       "# This will be printed in the container div on the output below\n",
       "doc[\"my_container\"] <= html.P(\"文字位於 div 標註內\", \n",
       "                              style = {\"backgroundColor\": \"cyan\"})\n",
       "  </script>\n",
       "  <div id=\"my_container\"></div>\n",
       "  <script type=\"text/javascript\">brython({debug:1, static_stdlib_import: false, ipy_id: [\"200015\"]});</script>\n"
      ],
      "text/plain": [
       "<IPython.core.display.HTML object>"
      ]
     },
     "metadata": {},
     "output_type": "display_data"
    }
   ],
   "source": [
    "%%brython -c my_container\n",
    "# 假如要列出所產生的 html 則使用 -p\n",
    "from browser import doc, html\n",
    "\n",
    "# This will be printed in the js console of your browser\n",
    "print('Hello world!')\n",
    "\n",
    "# This will be printed in the container div on the output below\n",
    "doc[\"my_container\"] <= html.P(\"文字位於 div 標註內\", \n",
    "                              style = {\"backgroundColor\": \"cyan\"})"
   ]
  },
  {
   "cell_type": "code",
   "execution_count": 30,
   "metadata": {
    "collapsed": false
   },
   "outputs": [
    {
     "data": {
      "text/html": [
       "  <script id=\"921726\" type=\"text/python\">\n",
       "from browser.timer import request_animation_frame as raf\n",
       "from browser.timer import cancel_animation_frame as caf\n",
       "from browser import doc, html\n",
       "from time import time\n",
       "import math\n",
       "\n",
       "# First we create a table to insert the elements\n",
       "table = html.TABLE(cellpadding = 10)\n",
       "btn_anim = html.BUTTON('Animate', Id=\"btn-anim\", type=\"button\")\n",
       "btn_stop = html.BUTTON('Stop', Id=\"btn-stop\", type=\"button\")\n",
       "cnvs = html.CANVAS(Id=\"raf-canvas\", width=256, height=256)\n",
       "\n",
       "table <= html.TR(html.TD(btn_anim + btn_stop) +\n",
       "                 html.TD(cnvs))\n",
       "\n",
       "doc['canvas_example'] <= table\n",
       "# Now we access the canvas context\n",
       "ctx = doc['raf-canvas'].getContext( '2d' ) \n",
       "\n",
       "# And we create several functions in charge to animate and stop the draw animation\n",
       "toggle = True\n",
       "\n",
       "def draw():\n",
       "    t = time() * 3\n",
       "    x = math.sin(t) * 96 + 128\n",
       "    y = math.cos(t * 0.9) * 96 + 128\n",
       "    global toggle\n",
       "    if toggle:\n",
       "        toggle = False\n",
       "    else:\n",
       "        toggle = True\n",
       "    ctx.fillStyle = 'rgb(200,200,20)' if toggle else 'rgb(20,20,200)'\n",
       "    ctx.beginPath()\n",
       "    ctx.arc( x, y, 6, 0, math.pi * 2, True)\n",
       "    ctx.closePath()\n",
       "    ctx.fill()\n",
       "\n",
       "def animate(i):\n",
       "    global id\n",
       "    id = raf(animate)\n",
       "    draw()\n",
       "\n",
       "def stop(i):\n",
       "    global id\n",
       "    print(id)\n",
       "    caf(id)\n",
       "\n",
       "doc[\"btn-anim\"].bind(\"click\", animate)\n",
       "doc[\"btn-stop\"].bind(\"click\", stop)\n",
       "  </script>\n",
       "  <div id=\"canvas_example\"></div>\n",
       "  <script type=\"text/javascript\">brython({debug:1, static_stdlib_import: false, ipy_id: [\"921726\"]});</script>\n"
      ],
      "text/plain": [
       "<IPython.core.display.HTML object>"
      ]
     },
     "metadata": {},
     "output_type": "display_data"
    }
   ],
   "source": [
    "%%brython -c canvas_example\n",
    "from browser.timer import request_animation_frame as raf\n",
    "from browser.timer import cancel_animation_frame as caf\n",
    "from browser import doc, html\n",
    "from time import time\n",
    "import math\n",
    "\n",
    "# First we create a table to insert the elements\n",
    "table = html.TABLE(cellpadding = 10)\n",
    "btn_anim = html.BUTTON('Animate', Id=\"btn-anim\", type=\"button\")\n",
    "btn_stop = html.BUTTON('Stop', Id=\"btn-stop\", type=\"button\")\n",
    "cnvs = html.CANVAS(Id=\"raf-canvas\", width=256, height=256)\n",
    "\n",
    "table <= html.TR(html.TD(btn_anim + btn_stop) +\n",
    "                 html.TD(cnvs))\n",
    "\n",
    "doc['canvas_example'] <= table\n",
    "# Now we access the canvas context\n",
    "ctx = doc['raf-canvas'].getContext( '2d' ) \n",
    "\n",
    "# And we create several functions in charge to animate and stop the draw animation\n",
    "toggle = True\n",
    "\n",
    "def draw():\n",
    "    t = time() * 3\n",
    "    x = math.sin(t) * 96 + 128\n",
    "    y = math.cos(t * 0.9) * 96 + 128\n",
    "    global toggle\n",
    "    if toggle:\n",
    "        toggle = False\n",
    "    else:\n",
    "        toggle = True\n",
    "    ctx.fillStyle = 'rgb(200,200,20)' if toggle else 'rgb(20,20,200)'\n",
    "    ctx.beginPath()\n",
    "    ctx.arc( x, y, 6, 0, math.pi * 2, True)\n",
    "    ctx.closePath()\n",
    "    ctx.fill()\n",
    "\n",
    "def animate(i):\n",
    "    global id\n",
    "    id = raf(animate)\n",
    "    draw()\n",
    "\n",
    "def stop(i):\n",
    "    global id\n",
    "    print(id)\n",
    "    caf(id)\n",
    "\n",
    "doc[\"btn-anim\"].bind(\"click\", animate)\n",
    "doc[\"btn-stop\"].bind(\"click\", stop)"
   ]
  },
  {
   "cell_type": "code",
   "execution_count": null,
   "metadata": {
    "collapsed": true
   },
   "outputs": [],
   "source": []
  }
 ],
 "metadata": {
  "kernelspec": {
   "display_name": "Python 3",
   "language": "python",
   "name": "python3"
  },
  "language_info": {
   "codemirror_mode": {
    "name": "ipython",
    "version": 3
   },
   "file_extension": ".py",
   "mimetype": "text/x-python",
   "name": "python",
   "nbconvert_exporter": "python",
   "pygments_lexer": "ipython3",
   "version": "3.4.0"
  }
 },
 "nbformat": 4,
 "nbformat_minor": 0
}
